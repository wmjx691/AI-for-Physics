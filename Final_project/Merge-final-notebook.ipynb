{
 "cells": [
  {
   "cell_type": "code",
   "execution_count": 1,
   "id": "d3df1f4f",
   "metadata": {
    "_cell_guid": "b1076dfc-b9ad-4769-8c92-a6c4dae69d19",
    "_uuid": "8f2839f25d086af736a60e9eeb907d3b93b6e0e5",
    "execution": {
     "iopub.execute_input": "2022-05-31T08:47:52.289613Z",
     "iopub.status.busy": "2022-05-31T08:47:52.288501Z",
     "iopub.status.idle": "2022-05-31T08:47:52.377644Z",
     "shell.execute_reply": "2022-05-31T08:47:52.376777Z"
    },
    "papermill": {
     "duration": 0.109259,
     "end_time": "2022-05-31T08:47:52.380176",
     "exception": false,
     "start_time": "2022-05-31T08:47:52.270917",
     "status": "completed"
    },
    "tags": []
   },
   "outputs": [],
   "source": [
    "# This Python 3 environment comes with many helpful analytics libraries installed\n",
    "# It is defined by the kaggle/python Docker image: https://github.com/kaggle/docker-python\n",
    "# For example, here's several helpful packages to load\n",
    "\n",
    "import numpy as np # linear algebra\n",
    "import pandas as pd # data processing, CSV file I/O (e.g. pd.read_csv)\n",
    "import matplotlib.pyplot as plt\n",
    "\n",
    "# Input data files are available in the read-only \"../input/\" directory\n",
    "# For example, running this (by clicking run or pressing Shift+Enter) will list all files under the input directory\n",
    "\n",
    "import os\n",
    "import gc\n",
    "import pickle\n",
    "import imageio\n",
    "\n",
    "# for dirname, _, filenames in os.walk('/kaggle/input'):\n",
    "#     for filename in filenames:\n",
    "#         print(os.path.join(dirname, filename))\n",
    "\n",
    "# You can write up to 20GB to the current directory (/kaggle/working/) that gets preserved as output when you create a version using \"Save & Run All\" \n",
    "# You can also write temporary files to /kaggle/temp/, but they won't be saved outside of the current session"
   ]
  },
  {
   "cell_type": "markdown",
   "id": "6fc99952",
   "metadata": {
    "papermill": {
     "duration": 0.014366,
     "end_time": "2022-05-31T08:47:52.409461",
     "exception": false,
     "start_time": "2022-05-31T08:47:52.395095",
     "status": "completed"
    },
    "tags": []
   },
   "source": [
    "# 0. Setting the parameters of running cell/ read data set\n",
    "Because the preprocessing of data (part 1&2) will take you for about 40 mins,\n",
    "and a model training will take you for about 1 hour.\n",
    "\n",
    "So we give this cell to let you set whether run the cells / use the data set in the input of Kaggle (what we saved the output during the developing time)"
   ]
  },
  {
   "cell_type": "code",
   "execution_count": 2,
   "id": "53a02c74",
   "metadata": {
    "execution": {
     "iopub.execute_input": "2022-05-31T08:47:52.440877Z",
     "iopub.status.busy": "2022-05-31T08:47:52.440074Z",
     "iopub.status.idle": "2022-05-31T08:47:52.445370Z",
     "shell.execute_reply": "2022-05-31T08:47:52.444544Z"
    },
    "papermill": {
     "duration": 0.023296,
     "end_time": "2022-05-31T08:47:52.447360",
     "exception": false,
     "start_time": "2022-05-31T08:47:52.424064",
     "status": "completed"
    },
    "tags": []
   },
   "outputs": [],
   "source": [
    "# if the following parameter is False, the cell will be rerun\n",
    "use_dataset_train_proj = True  # use the projected images by pre-process of training data  \n",
    "use_dataset_test_proj  = True  # use the projected images by pre-process of testing data\n",
    "use_dataset_CNN_model  = True  # use the CNN model which had been trained\n",
    "use_dataset_Res_model  = True  # use the images by pre-process data for ResNet50 model\n",
    "use_dataset_XGB_model  = True  # use the pre-process data for XGB model\n",
    "\n",
    "# dataset url link if the notebook don't load dataset automatically:https://www.kaggle.com/datasets/weihsiangyu/3dto2d-preimage\n",
    "\n",
    "# projected train/test image                        url: https://www.kaggle.com/datasets/weihsiangyu/3dto2d-preimage/download\n",
    "# CNN model                                         url: https://www.kaggle.com/datasets/weihsiangyu/3dto2dcnnmodel/download\n",
    "# Res/XGB model preprocess data (data-preprocess-2) url: https://www.kaggle.com/datasets/yichenwang001/data-preprocess-2/download"
   ]
  },
  {
   "cell_type": "markdown",
   "id": "c1455734",
   "metadata": {
    "papermill": {
     "duration": 0.014531,
     "end_time": "2022-05-31T08:47:52.476879",
     "exception": false,
     "start_time": "2022-05-31T08:47:52.462348",
     "status": "completed"
    },
    "tags": []
   },
   "source": [
    "# 1. Pre-Processing the training data (projection)"
   ]
  },
  {
   "cell_type": "code",
   "execution_count": 3,
   "id": "14ec31d3",
   "metadata": {
    "execution": {
     "iopub.execute_input": "2022-05-31T08:47:52.508769Z",
     "iopub.status.busy": "2022-05-31T08:47:52.508388Z",
     "iopub.status.idle": "2022-05-31T08:47:52.532577Z",
     "shell.execute_reply": "2022-05-31T08:47:52.531544Z"
    },
    "papermill": {
     "duration": 0.043062,
     "end_time": "2022-05-31T08:47:52.535081",
     "exception": false,
     "start_time": "2022-05-31T08:47:52.492019",
     "status": "completed"
    },
    "tags": []
   },
   "outputs": [],
   "source": [
    "# set train data path\n",
    "path_train  = '/kaggle/input/phys591000-2022-final-project-ii/fc_train_data/fc_train_data'\n",
    "df_train    = pd.read_csv('/kaggle/input/phys591000-2022-final-project-ii/fc_train_data/fc_train_data/fc_training_list.csv')\n",
    "\n",
    "label_train_df = np.array(df_train['label'])\n",
    "id_train_df    = np.array(df_train['id'])\n",
    "del df_train"
   ]
  },
  {
   "cell_type": "markdown",
   "id": "647fe192",
   "metadata": {
    "papermill": {
     "duration": 0.018616,
     "end_time": "2022-05-31T08:47:52.569129",
     "exception": false,
     "start_time": "2022-05-31T08:47:52.550513",
     "status": "completed"
    },
    "tags": []
   },
   "source": [
    "## 1.1 interpolate the .swc file to get enough points"
   ]
  },
  {
   "cell_type": "code",
   "execution_count": 4,
   "id": "c4f998d0",
   "metadata": {
    "execution": {
     "iopub.execute_input": "2022-05-31T08:47:52.625547Z",
     "iopub.status.busy": "2022-05-31T08:47:52.625036Z",
     "iopub.status.idle": "2022-05-31T08:47:52.970884Z",
     "shell.execute_reply": "2022-05-31T08:47:52.969817Z"
    },
    "papermill": {
     "duration": 0.379215,
     "end_time": "2022-05-31T08:47:52.973214",
     "exception": false,
     "start_time": "2022-05-31T08:47:52.593999",
     "status": "completed"
    },
    "tags": []
   },
   "outputs": [],
   "source": [
    "# read the .swc points location and using scipy.interpolate() to add enough points\n",
    "\n",
    "from scipy.interpolate import interp1d\n",
    "\n",
    "# loading .swc file as numpy array\n",
    "# when axis=1 value==1 -> R\n",
    "#             value==2 -> position of x\n",
    "#             value==3 -> position of x\n",
    "#             value==4 -> position of x\n",
    "\n",
    "# structure of dict_swc : {dict_swc['id1']['r'],\n",
    "#                                         ['x'],\n",
    "#                                         ['y'],\n",
    "#                                         ['z'],\n",
    "#                          dict_swc['id2']['r'],\n",
    "#                                         ['x'],\n",
    "#                                         ['y'],\n",
    "#                                         ['z'],\n",
    "#                          dict_swc['id3'],\n",
    "#                          ...\n",
    "#                          }\n",
    "\n",
    "\n",
    "def swc_interp1d(path_file,id_file):\n",
    "    dict_swc= {}\n",
    "    \n",
    "    # read each .swc file based on given id\n",
    "    for i in range(len(id_file)):\n",
    "        swc = np.loadtxt(f\"{path_file}/swc/{id_file[i]}.swc\")\n",
    "\n",
    "        x = swc[:,2]\n",
    "        y = swc[:,3]\n",
    "        z = swc[:,4]\n",
    "        \n",
    "        # if the numbers of .swc location points are less than 2000 points,\n",
    "        # using cubic interpolate to interpolate over 2000 points\n",
    "        if len(swc[:,1])<2000:\n",
    "            intersize = int((2000/len(swc[:,1]))+1)                                # What multiple should be interpolated in each interval\n",
    "            interval_axis = np.linspace(1, len(swc[:,1]), len(swc[:,1]))           # the (widther) interval frame before interpolating \n",
    "            interpol_axis = np.linspace(1, len(swc[:,1]), intersize*len(swc[:,1])) # the (thinner) interval frame after interpolating \n",
    "            fx = interp1d(interval_axis, swc[:,2], kind='cubic')\n",
    "            fy = interp1d(interval_axis, swc[:,3], kind='cubic')       # using the widther interval to have a function of interpolation\n",
    "            fz = interp1d(interval_axis, swc[:,4], kind='cubic')                   \n",
    "\n",
    "            x = fx(interpol_axis)   \n",
    "            y = fy(interpol_axis)       # using the thinner interval and apply the interpolational function to get interpolating results\n",
    "            z = fz(interpol_axis)\n",
    "            \n",
    "            del interval_axis, interpol_axis, fx, fy, fz\n",
    "\n",
    "        dict_swc[id_file[i]] = {}\n",
    "        dict_swc[id_file[i]]['r'] = swc[:,1]\n",
    "        dict_swc[id_file[i]]['x'] = x\n",
    "        dict_swc[id_file[i]]['y'] = y\n",
    "        dict_swc[id_file[i]]['z'] = z\n",
    "        \n",
    "        del swc, x, y, z\n",
    "        \n",
    "    return dict_swc"
   ]
  },
  {
   "cell_type": "code",
   "execution_count": 5,
   "id": "4deb7294",
   "metadata": {
    "execution": {
     "iopub.execute_input": "2022-05-31T08:47:53.024936Z",
     "iopub.status.busy": "2022-05-31T08:47:53.024328Z",
     "iopub.status.idle": "2022-05-31T08:47:53.033183Z",
     "shell.execute_reply": "2022-05-31T08:47:53.032363Z"
    },
    "papermill": {
     "duration": 0.038426,
     "end_time": "2022-05-31T08:47:53.036776",
     "exception": false,
     "start_time": "2022-05-31T08:47:52.998350",
     "status": "completed"
    },
    "tags": []
   },
   "outputs": [
    {
     "name": "stdout",
     "output_type": "stream",
     "text": [
      "Using data set of projected training image, pass!\n"
     ]
    }
   ],
   "source": [
    "if not use_dataset_train_proj:\n",
    "    print(\"Rerun the cell\")\n",
    "    \n",
    "    # swc_interp1d(path_file,id_file)\n",
    "    dict_swc_train = swc_interp1d(path_train, id_train_df)\n",
    "\n",
    "    with open(f\"/kaggle/working/dict_swc_train.pickle\", \"wb\") as f:\n",
    "        pickle.dump(dict_swc_train,f)\n",
    "\n",
    "    # del dict_swc_train\n",
    "    # # using pickcle to load the .scw information\n",
    "    # dict_swc = pickle.load(open(\"/kaggle/working/dict_swc.pickle\", \"rb\"))\n",
    "    \n",
    "else:\n",
    "    print(\"Using data set of projected training image, pass!\")"
   ]
  },
  {
   "cell_type": "markdown",
   "id": "f522d24f",
   "metadata": {
    "papermill": {
     "duration": 0.022972,
     "end_time": "2022-05-31T08:47:53.083748",
     "exception": false,
     "start_time": "2022-05-31T08:47:53.060776",
     "status": "completed"
    },
    "tags": []
   },
   "source": [
    "## 1-2. generating the 2d projected .png from 3d .swc"
   ]
  },
  {
   "cell_type": "code",
   "execution_count": 6,
   "id": "171df6f8",
   "metadata": {
    "execution": {
     "iopub.execute_input": "2022-05-31T08:47:53.133529Z",
     "iopub.status.busy": "2022-05-31T08:47:53.132952Z",
     "iopub.status.idle": "2022-05-31T08:47:53.185390Z",
     "shell.execute_reply": "2022-05-31T08:47:53.184460Z"
    },
    "papermill": {
     "duration": 0.080867,
     "end_time": "2022-05-31T08:47:53.188309",
     "exception": false,
     "start_time": "2022-05-31T08:47:53.107442",
     "status": "completed"
    },
    "tags": []
   },
   "outputs": [],
   "source": [
    "def swc_to_png(dict_swc, id_file, folder_name):\n",
    "    print(f\"start to generated projected image of {folder_name} data\")\n",
    "    axis_range = np.linspace(-524, 525, 1050)\n",
    "    i=1\n",
    "    \n",
    "    # check if saving folder exist or not\n",
    "    if not os.path.isdir(f\"/kaggle/working/{folder_name}/\"):\n",
    "        os.makedirs(f\"/kaggle/working/{folder_name}/\")\n",
    "    savepath = f\"/kaggle/working/{folder_name}/\"\n",
    "\n",
    "    for idname in id_file:\n",
    "\n",
    "        # check if projected images are exist or not\n",
    "        if ((os.path.isfile(f\"{savepath}/{idname}_xyplane.png\")) and\n",
    "            (os.path.isfile(f\"{savepath}/{idname}_yzplane.png\")) and\n",
    "            (os.path.isfile(f\"{savepath}/{idname}_xzplane.png\"))):\n",
    "            continue\n",
    "\n",
    "        if i%100==0:\n",
    "            print(f\"Run No.{i}\")\n",
    "        i = i+1\n",
    "\n",
    "        # load the interpolate .swc location\n",
    "        x_list_raw = dict_swc[idname]['x']\n",
    "        y_list_raw = dict_swc[idname]['y']\n",
    "        z_list_raw = dict_swc[idname]['z']\n",
    "\n",
    "        # measure the interval of x,y,z direction to determine\n",
    "        x_interval = np.max(x_list_raw)-np.min(x_list_raw)\n",
    "        y_interval = np.max(y_list_raw)-np.min(y_list_raw)\n",
    "        z_interval = np.max(z_list_raw)-np.min(z_list_raw)\n",
    "\n",
    "        # Magnification if the size of location distribution is too small \n",
    "        for resize in [5., 4., 3., 2.]:\n",
    "            if (x_interval<(1050./resize)) & (y_interval<(1050./resize)) & (z_interval<(1050./resize)):\n",
    "\n",
    "                x_mid = (np.max(x_list_raw)+np.min(x_list_raw))/2.\n",
    "                y_mid = (np.max(y_list_raw)+np.min(y_list_raw))/2.\n",
    "                z_mid = (np.max(z_list_raw)+np.min(z_list_raw))/2.\n",
    "\n",
    "                # shift the point in the middle of the image\n",
    "                # +\n",
    "                # enlarge its size to \"resize\" times\n",
    "                x_list = (x_list_raw - x_mid)*resize\n",
    "                y_list = (y_list_raw - y_mid)*resize\n",
    "                z_list = (z_list_raw - z_mid)*resize\n",
    "\n",
    "                x_list = np.ceil(x_list)\n",
    "                y_list = np.ceil(y_list)\n",
    "                z_list = np.ceil(z_list)\n",
    "                \n",
    "                del x_mid, y_mid, z_mid\n",
    "                \n",
    "                break\n",
    "\n",
    "            else:\n",
    "                x_list = np.ceil(x_list_raw)\n",
    "                y_list = np.ceil(y_list_raw)\n",
    "                z_list = np.ceil(z_list_raw)\n",
    "                \n",
    "        del x_list_raw, y_list_raw, z_list_raw\n",
    "        del x_interval, y_interval, z_interval\n",
    "\n",
    "        # Mapping the swc location point to the 3dframe     \n",
    "        frame3d    = np.zeros((1050,1050,1050), dtype=np.int8)  # create the 3d frame as a 1050*1050*1050 box\n",
    "        \n",
    "        index = len(dict_swc[idname]['x'])-1    \n",
    "        while(index):\n",
    "            axis_index0 = np.where(axis_range == x_list[index])[0][0]\n",
    "            axis_index1 = np.where(axis_range == y_list[index])[0][0]\n",
    "            axis_index2 = np.where(axis_range == z_list[index])[0][0]\n",
    "    #         frame3d[axis_index0  , axis_index1  , axis_index2] = 1  # original point\n",
    "\n",
    "            # determine if the point touch the edge or not\n",
    "            if axis_index0==1049 or axis_index1==1049 or axis_index2==1049:\n",
    "                index = index -1\n",
    "                continue\n",
    "            if axis_index0==0 or axis_index0==0 or axis_index0==0:\n",
    "                index = index -1\n",
    "                continue\n",
    "\n",
    "            # z=0 plane\n",
    "            frame3d[axis_index0+1, axis_index1+1, axis_index2] = 1\n",
    "            frame3d[axis_index0+1, axis_index1  , axis_index2] = 1\n",
    "            frame3d[axis_index0+1, axis_index1-1, axis_index2] = 1\n",
    "            frame3d[axis_index0  , axis_index1+1, axis_index2] = 1\n",
    "            frame3d[axis_index0  , axis_index1  , axis_index2] = 1  # (0,0,0)original point\n",
    "            frame3d[axis_index0  , axis_index1-1, axis_index2] = 1\n",
    "            frame3d[axis_index0-1, axis_index1+1, axis_index2] = 1\n",
    "            frame3d[axis_index0-1, axis_index1  , axis_index2] = 1\n",
    "            frame3d[axis_index0-1, axis_index1-1, axis_index2] = 1\n",
    "\n",
    "            # z=+1 plane\n",
    "            frame3d[axis_index0+1, axis_index1+1, axis_index2+1] = 1\n",
    "            frame3d[axis_index0+1, axis_index1  , axis_index2+1] = 1\n",
    "            frame3d[axis_index0+1, axis_index1-1, axis_index2+1] = 1\n",
    "            frame3d[axis_index0  , axis_index1+1, axis_index2+1] = 1\n",
    "            frame3d[axis_index0  , axis_index1  , axis_index2+1] = 1  # (0,0,1)\n",
    "            frame3d[axis_index0  , axis_index1-1, axis_index2+1] = 1\n",
    "            frame3d[axis_index0-1, axis_index1+1, axis_index2+1] = 1\n",
    "            frame3d[axis_index0-1, axis_index1  , axis_index2+1] = 1\n",
    "            frame3d[axis_index0-1, axis_index1-1, axis_index2+1] = 1\n",
    "\n",
    "            # z=-1 plane\n",
    "            frame3d[axis_index0+1, axis_index1+1, axis_index2-1] = 1\n",
    "            frame3d[axis_index0+1, axis_index1  , axis_index2-1] = 1\n",
    "            frame3d[axis_index0+1, axis_index1-1, axis_index2-1] = 1\n",
    "            frame3d[axis_index0  , axis_index1+1, axis_index2-1] = 1\n",
    "            frame3d[axis_index0  , axis_index1  , axis_index2-1] = 1  # (0,0,-1)\n",
    "            frame3d[axis_index0  , axis_index1-1, axis_index2-1] = 1\n",
    "            frame3d[axis_index0-1, axis_index1+1, axis_index2-1] = 1\n",
    "            frame3d[axis_index0-1, axis_index1  , axis_index2-1] = 1\n",
    "            frame3d[axis_index0-1, axis_index1-1, axis_index2-1] = 1\n",
    "\n",
    "            index = index -1\n",
    "\n",
    "        # projected to each plane\n",
    "        xy_plane = np.sum(frame3d, axis=2, dtype=np.int8)\n",
    "        yz_plane = np.sum(frame3d, axis=0, dtype=np.int8)\n",
    "        xz_plane = np.sum(frame3d, axis=1, dtype=np.int8)\n",
    "\n",
    "        # set the points those have values to 1\n",
    "        xy_plane[xy_plane!=0]=1\n",
    "        yz_plane[yz_plane!=0]=1\n",
    "        xz_plane[xz_plane!=0]=1\n",
    "\n",
    "        # save the figure\n",
    "        imageio.imwrite(f\"{savepath}/{idname}_xyplane.png\", xy_plane)\n",
    "        imageio.imwrite(f\"{savepath}/{idname}_yzplane.png\", yz_plane)\n",
    "        imageio.imwrite(f\"{savepath}/{idname}_xzplane.png\", xz_plane)\n",
    "        \n",
    "        del frame3d, xy_plane, yz_plane, xz_plane\n",
    "        del axis_index0, axis_index1, axis_index2\n",
    "        del x_list, y_list, z_list\n",
    "        \n",
    "        \n",
    "    del axis_range\n",
    "    return"
   ]
  },
  {
   "cell_type": "code",
   "execution_count": 7,
   "id": "4ba7b713",
   "metadata": {
    "execution": {
     "iopub.execute_input": "2022-05-31T08:47:53.239723Z",
     "iopub.status.busy": "2022-05-31T08:47:53.239032Z",
     "iopub.status.idle": "2022-05-31T08:47:53.245803Z",
     "shell.execute_reply": "2022-05-31T08:47:53.244897Z"
    },
    "papermill": {
     "duration": 0.036538,
     "end_time": "2022-05-31T08:47:53.248857",
     "exception": false,
     "start_time": "2022-05-31T08:47:53.212319",
     "status": "completed"
    },
    "tags": []
   },
   "outputs": [
    {
     "name": "stdout",
     "output_type": "stream",
     "text": [
      "Using data set of projected training image, pass!\n"
     ]
    }
   ],
   "source": [
    "# Then use swc_to_png function to do projection of train data\n",
    "\n",
    "# swc_to_png(dict_swc, id_file, folder_name)\n",
    "if not use_dataset_train_proj:\n",
    "    print(\"Rerun cell\")\n",
    "    swc_to_png(dict_swc_train, id_train_df, 'train_3d')\n",
    "    del dict_swc_train\n",
    "    \n",
    "else:\n",
    "    print(\"Using data set of projected training image, pass!\")"
   ]
  },
  {
   "cell_type": "code",
   "execution_count": 8,
   "id": "02243a24",
   "metadata": {
    "execution": {
     "iopub.execute_input": "2022-05-31T08:47:53.285190Z",
     "iopub.status.busy": "2022-05-31T08:47:53.284269Z",
     "iopub.status.idle": "2022-05-31T08:47:54.179296Z",
     "shell.execute_reply": "2022-05-31T08:47:54.178349Z"
    },
    "papermill": {
     "duration": 0.915069,
     "end_time": "2022-05-31T08:47:54.183360",
     "exception": false,
     "start_time": "2022-05-31T08:47:53.268291",
     "status": "completed"
    },
    "tags": []
   },
   "outputs": [
    {
     "name": "stdout",
     "output_type": "stream",
     "text": [
      "Using data set of projected training image\n"
     ]
    },
    {
     "data": {
      "image/png": "[encoded data removed]",
      "text/plain": [
       "<Figure size 1350x450 with 3 Axes>"
      ]
     },
     "metadata": {
      "needs_background": "light"
     },
     "output_type": "display_data"
    },
    {
     "data": {
      "text/plain": [
       "54"
      ]
     },
     "execution_count": 8,
     "metadata": {},
     "output_type": "execute_result"
    },
    {
     "data": {
      "text/plain": [
       "<Figure size 432x288 with 0 Axes>"
      ]
     },
     "metadata": {},
     "output_type": "display_data"
    }
   ],
   "source": [
    "# check for the first image\n",
    "idname = id_train_df[0]\n",
    "if use_dataset_train_proj:\n",
    "    savepath = f\"../input/3dto2d-preimage/train_3d\"\n",
    "    print(\"Using data set of projected training image\")\n",
    "    \n",
    "else:\n",
    "    savepath = f\"./train_3d/\"\n",
    "    print(\"Rerun result\")\n",
    "\n",
    "fig = plt.figure(figsize=(9,3), dpi=150)\n",
    "fig.suptitle(f\"Check the first image of train data: {idname}\")\n",
    "plt.subplot(1,3,1)\n",
    "plt.imshow(plt.imread(f\"{savepath}/{idname}_xyplane.png\"))\n",
    "plt.title('xy plane')\n",
    "\n",
    "plt.subplot(1,3,2)\n",
    "plt.imshow(plt.imread(f\"{savepath}/{idname}_yzplane.png\"))\n",
    "plt.title('yz plane')\n",
    "\n",
    "plt.subplot(1,3,3)\n",
    "plt.imshow(plt.imread(f\"{savepath}/{idname}_xzplane.png\"))\n",
    "plt.title('xz plane')\n",
    "\n",
    "plt.show()\n",
    "plt.clf()\n",
    "plt.close(fig)\n",
    "gc.collect()"
   ]
  },
  {
   "cell_type": "markdown",
   "id": "d7cf7b85",
   "metadata": {
    "papermill": {
     "duration": 0.016137,
     "end_time": "2022-05-31T08:47:54.216594",
     "exception": false,
     "start_time": "2022-05-31T08:47:54.200457",
     "status": "completed"
    },
    "tags": []
   },
   "source": [
    "# 2. Pre-Processing the testing data (projection)"
   ]
  },
  {
   "cell_type": "code",
   "execution_count": 9,
   "id": "c9c6657d",
   "metadata": {
    "execution": {
     "iopub.execute_input": "2022-05-31T08:47:54.249812Z",
     "iopub.status.busy": "2022-05-31T08:47:54.249419Z",
     "iopub.status.idle": "2022-05-31T08:47:54.258782Z",
     "shell.execute_reply": "2022-05-31T08:47:54.257877Z"
    },
    "papermill": {
     "duration": 0.02868,
     "end_time": "2022-05-31T08:47:54.260798",
     "exception": false,
     "start_time": "2022-05-31T08:47:54.232118",
     "status": "completed"
    },
    "tags": []
   },
   "outputs": [],
   "source": [
    "# set test data path and use test template.csv\n",
    "path_test = '/kaggle/input/phys591000-2022-final-project-ii/fc_test_data/fc_test_data/'\n",
    "df_test   = pd.read_csv('../input/phys591000-2022-final-project-ii/fc_prediction_template.csv')\n",
    "\n",
    "id_test_df    = np.array(df_test['id'])\n",
    "\n",
    "del df_test"
   ]
  },
  {
   "cell_type": "markdown",
   "id": "2ba73271",
   "metadata": {
    "papermill": {
     "duration": 0.01645,
     "end_time": "2022-05-31T08:47:54.294247",
     "exception": false,
     "start_time": "2022-05-31T08:47:54.277797",
     "status": "completed"
    },
    "tags": []
   },
   "source": [
    "## 2-1. interpolate the .swc file to get enough points (same as 1-1)"
   ]
  },
  {
   "cell_type": "code",
   "execution_count": 10,
   "id": "127a06df",
   "metadata": {
    "execution": {
     "iopub.execute_input": "2022-05-31T08:47:54.328094Z",
     "iopub.status.busy": "2022-05-31T08:47:54.327720Z",
     "iopub.status.idle": "2022-05-31T08:47:54.333881Z",
     "shell.execute_reply": "2022-05-31T08:47:54.333001Z"
    },
    "papermill": {
     "duration": 0.026813,
     "end_time": "2022-05-31T08:47:54.337166",
     "exception": false,
     "start_time": "2022-05-31T08:47:54.310353",
     "status": "completed"
    },
    "tags": []
   },
   "outputs": [
    {
     "name": "stdout",
     "output_type": "stream",
     "text": [
      "Using data set of projected test image, pass!\n"
     ]
    }
   ],
   "source": [
    "# using the function define in 1-1.\n",
    "\n",
    "if not use_dataset_test_proj:\n",
    "    print(\"Rerun cell\")\n",
    "    # swc_interp1d(path_file,id_file)\n",
    "    dict_swc_test = swc_interp1d(path_test, id_test_df)\n",
    "\n",
    "    with open(f\"/kaggle/working/dict_swc_test.pickle\", \"wb\") as f:\n",
    "        pickle.dump(dict_swc_test,f)\n",
    "\n",
    "    # del dict_swc_test\n",
    "    # # using pickcle to load the .scw information\n",
    "    # dict_swc = pickle.load(open(\"/kaggle/working/dict_swc.pickle\", \"rb\"))\n",
    "    \n",
    "else:\n",
    "    print(\"Using data set of projected test image, pass!\")"
   ]
  },
  {
   "cell_type": "markdown",
   "id": "5ad3d226",
   "metadata": {
    "papermill": {
     "duration": 0.016544,
     "end_time": "2022-05-31T08:47:54.370919",
     "exception": false,
     "start_time": "2022-05-31T08:47:54.354375",
     "status": "completed"
    },
    "tags": []
   },
   "source": [
    "## 2-2. generating the 2d projected .png from 3d .swc (same as 1-2)"
   ]
  },
  {
   "cell_type": "code",
   "execution_count": 11,
   "id": "3f171436",
   "metadata": {
    "execution": {
     "iopub.execute_input": "2022-05-31T08:47:54.406748Z",
     "iopub.status.busy": "2022-05-31T08:47:54.406358Z",
     "iopub.status.idle": "2022-05-31T08:47:54.411562Z",
     "shell.execute_reply": "2022-05-31T08:47:54.410708Z"
    },
    "papermill": {
     "duration": 0.025673,
     "end_time": "2022-05-31T08:47:54.414172",
     "exception": false,
     "start_time": "2022-05-31T08:47:54.388499",
     "status": "completed"
    },
    "tags": []
   },
   "outputs": [
    {
     "name": "stdout",
     "output_type": "stream",
     "text": [
      "Using data set of projected test image, pass!\n"
     ]
    }
   ],
   "source": [
    "# Then use swc_to_png function(define in 1-2.) to do projection of train data\n",
    "\n",
    "if not use_dataset_test_proj:\n",
    "    print(\"Rerun cell\")\n",
    "    # swc_to_png(dict_swc, id_file, folder_name)\n",
    "    swc_to_png(dict_swc_test, id_test_df, 'test_3d')\n",
    "    del dict_swc_test\n",
    "    \n",
    "else:\n",
    "    print(\"Using data set of projected test image, pass!\")"
   ]
  },
  {
   "cell_type": "code",
   "execution_count": 12,
   "id": "a47a0cfd",
   "metadata": {
    "execution": {
     "iopub.execute_input": "2022-05-31T08:47:54.448437Z",
     "iopub.status.busy": "2022-05-31T08:47:54.448081Z",
     "iopub.status.idle": "2022-05-31T08:47:55.284151Z",
     "shell.execute_reply": "2022-05-31T08:47:55.283386Z"
    },
    "papermill": {
     "duration": 0.857554,
     "end_time": "2022-05-31T08:47:55.288418",
     "exception": false,
     "start_time": "2022-05-31T08:47:54.430864",
     "status": "completed"
    },
    "tags": []
   },
   "outputs": [
    {
     "name": "stdout",
     "output_type": "stream",
     "text": [
      "Using data set of projected test image!\n"
     ]
    },
    {
     "data": {
      "image/png": "[encoded data removed]",
      "text/plain": [
       "<Figure size 1350x450 with 3 Axes>"
      ]
     },
     "metadata": {
      "needs_background": "light"
     },
     "output_type": "display_data"
    },
    {
     "data": {
      "text/plain": [
       "8013"
      ]
     },
     "execution_count": 12,
     "metadata": {},
     "output_type": "execute_result"
    },
    {
     "data": {
      "text/plain": [
       "<Figure size 432x288 with 0 Axes>"
      ]
     },
     "metadata": {},
     "output_type": "display_data"
    }
   ],
   "source": [
    "# check for the first image\n",
    "idname = id_test_df[0]\n",
    "if use_dataset_test_proj:\n",
    "    savepath = f\"../input/3dto2d-preimage/test_3d\"\n",
    "    print(\"Using data set of projected test image!\")\n",
    "    \n",
    "else:\n",
    "    savepath = f\"./test_3d/\"\n",
    "    print(\"Rerun result\")\n",
    "\n",
    "fig = plt.figure(figsize=(9,3), dpi=150)\n",
    "fig.suptitle(f\"Check the first image of test data: {idname}\")\n",
    "plt.subplot(1,3,1)\n",
    "plt.imshow(plt.imread(f\"{savepath}/{idname}_xyplane.png\"))\n",
    "plt.title('xy plane')\n",
    "\n",
    "plt.subplot(1,3,2)\n",
    "plt.imshow(plt.imread(f\"{savepath}/{idname}_yzplane.png\"))\n",
    "plt.title('yz plane')\n",
    "\n",
    "plt.subplot(1,3,3)\n",
    "plt.imshow(plt.imread(f\"{savepath}/{idname}_xzplane.png\"))\n",
    "plt.title('xz plane')\n",
    "\n",
    "plt.show()\n",
    "plt.clf()\n",
    "plt.close(fig)\n",
    "gc.collect()"
   ]
  },
  {
   "cell_type": "markdown",
   "id": "8e8c0ff0",
   "metadata": {
    "papermill": {
     "duration": 0.018254,
     "end_time": "2022-05-31T08:47:55.326399",
     "exception": false,
     "start_time": "2022-05-31T08:47:55.308145",
     "status": "completed"
    },
    "tags": []
   },
   "source": [
    "# 3. Processing the training data (resize image to CNN model)¶"
   ]
  },
  {
   "cell_type": "markdown",
   "id": "964ccf02",
   "metadata": {
    "papermill": {
     "duration": 0.018211,
     "end_time": "2022-05-31T08:47:55.363218",
     "exception": false,
     "start_time": "2022-05-31T08:47:55.345007",
     "status": "completed"
    },
    "tags": []
   },
   "source": [
    "## 3-1. Choose type 1 and 0 train images with number ratio (1.5:1)\n",
    "Since the number of type 1 neurons are much more than type 0 (ratio 4:1),\n",
    "we need to balance the number of two types to do model train.<br>\n",
    "After trying different weights, we find that type1/0 with ratio 1.5:1 can get a better training."
   ]
  },
  {
   "cell_type": "code",
   "execution_count": 13,
   "id": "3faa394b",
   "metadata": {
    "execution": {
     "iopub.execute_input": "2022-05-31T08:47:55.403736Z",
     "iopub.status.busy": "2022-05-31T08:47:55.402972Z",
     "iopub.status.idle": "2022-05-31T08:47:55.409276Z",
     "shell.execute_reply": "2022-05-31T08:47:55.408451Z"
    },
    "papermill": {
     "duration": 0.02915,
     "end_time": "2022-05-31T08:47:55.411323",
     "exception": false,
     "start_time": "2022-05-31T08:47:55.382173",
     "status": "completed"
    },
    "tags": []
   },
   "outputs": [],
   "source": [
    "if not use_dataset_CNN_model:\n",
    "    # separate the id with label==1 and label==0\n",
    "    id_train_type1 = id_train_df[label_train_df==1]\n",
    "    id_train_type0 = id_train_df[label_train_df==0]\n",
    "\n",
    "    # random slect the type1 image to let them have eqaul number of data as type0\n",
    "    import random\n",
    "    select         = random.sample(range(1207),int(293*1.5))\n",
    "    id_train_type1 = id_train_type1[select]\n",
    "\n",
    "    # training data id list and label list\n",
    "    id_train    = np.hstack((id_train_type1,id_train_type0))\n",
    "    label_train = np.hstack((np.ones(len(id_train_type1)), np.zeros(len(id_train_type0))))\n",
    "    del id_train_type1, id_train_type0, select"
   ]
  },
  {
   "cell_type": "markdown",
   "id": "93228da2",
   "metadata": {
    "papermill": {
     "duration": 0.019319,
     "end_time": "2022-05-31T08:47:55.449508",
     "exception": false,
     "start_time": "2022-05-31T08:47:55.430189",
     "status": "completed"
    },
    "tags": []
   },
   "source": [
    "And we have original 2D .png + projected xy/yz/xz 2D .png image, so the images numbers will be 4 times of original list."
   ]
  },
  {
   "cell_type": "code",
   "execution_count": 14,
   "id": "e6c39237",
   "metadata": {
    "execution": {
     "iopub.execute_input": "2022-05-31T08:47:55.489369Z",
     "iopub.status.busy": "2022-05-31T08:47:55.488998Z",
     "iopub.status.idle": "2022-05-31T08:47:55.496675Z",
     "shell.execute_reply": "2022-05-31T08:47:55.495685Z"
    },
    "papermill": {
     "duration": 0.029909,
     "end_time": "2022-05-31T08:47:55.498888",
     "exception": false,
     "start_time": "2022-05-31T08:47:55.468979",
     "status": "completed"
    },
    "tags": []
   },
   "outputs": [],
   "source": [
    "if not use_dataset_CNN_model:\n",
    "    id_train    = id_train[:,np.newaxis]\n",
    "    label_train = label_train[:,np.newaxis]\n",
    "\n",
    "    # random order the training data\n",
    "    data = np.hstack((id_train,label_train))\n",
    "    np.random.shuffle(data)\n",
    "\n",
    "    id_train    = data[:,0]\n",
    "    label_train = data[:,1]\n",
    "\n",
    "    del data\n",
    "\n",
    "    label_train = label_train.astype(int)\n",
    "    label_train = np.eye(2)[label_train]\n",
    "\n",
    "    # add the training data to 4 same list continue to the original one\n",
    "    png_list   = np.hstack((id_train,id_train))\n",
    "    y_train    = np.vstack((label_train,label_train))\n",
    "    png_list   = np.hstack((png_list,id_train))\n",
    "    y_train    = np.vstack((y_train,label_train))\n",
    "    png_list   = np.hstack((png_list,id_train))\n",
    "    y_train    = np.vstack((y_train,label_train))"
   ]
  },
  {
   "cell_type": "markdown",
   "id": "99d594c0",
   "metadata": {
    "papermill": {
     "duration": 0.019741,
     "end_time": "2022-05-31T08:47:55.538257",
     "exception": false,
     "start_time": "2022-05-31T08:47:55.518516",
     "status": "completed"
    },
    "tags": []
   },
   "source": [
    "## 3-2. Use cv2 to resize (1050,1050) -> (448,448) \n",
    "Loading those .png into (448,448) size with cv2 re-png-size package,\n",
    "and remember to enlarger the signal(>0.01=threshold) to 1 and reduce other to 0"
   ]
  },
  {
   "cell_type": "code",
   "execution_count": 15,
   "id": "4d18167c",
   "metadata": {
    "execution": {
     "iopub.execute_input": "2022-05-31T08:47:55.577584Z",
     "iopub.status.busy": "2022-05-31T08:47:55.577213Z",
     "iopub.status.idle": "2022-05-31T08:47:55.774619Z",
     "shell.execute_reply": "2022-05-31T08:47:55.773714Z"
    },
    "papermill": {
     "duration": 0.219462,
     "end_time": "2022-05-31T08:47:55.776830",
     "exception": false,
     "start_time": "2022-05-31T08:47:55.557368",
     "status": "completed"
    },
    "tags": []
   },
   "outputs": [],
   "source": [
    "import glob\n",
    "from tqdm import tqdm\n",
    "from PIL import ImageFile\n",
    "ImageFile.LOAD_TRUNCATED_IMAGES = True\n",
    "import cv2"
   ]
  },
  {
   "cell_type": "code",
   "execution_count": 16,
   "id": "9d7b28c6",
   "metadata": {
    "execution": {
     "iopub.execute_input": "2022-05-31T08:47:55.817290Z",
     "iopub.status.busy": "2022-05-31T08:47:55.816928Z",
     "iopub.status.idle": "2022-05-31T08:47:55.830211Z",
     "shell.execute_reply": "2022-05-31T08:47:55.829314Z"
    },
    "papermill": {
     "duration": 0.036188,
     "end_time": "2022-05-31T08:47:55.832315",
     "exception": false,
     "start_time": "2022-05-31T08:47:55.796127",
     "status": "completed"
    },
    "tags": []
   },
   "outputs": [],
   "source": [
    "if not use_dataset_CNN_model:\n",
    "    x_train = np.zeros((len(png_list),448,448), dtype=np.float16)\n",
    "\n",
    "    path_train_png = '/kaggle/input/phys591000-2022-final-project-ii/fc_train_data/fc_train_data/png/'\n",
    "    \n",
    "    if use_dataset_train_proj:\n",
    "        project_train_png = \"/kaggle/input/3dto2d-preimage/train_3d\"\n",
    "    else:\n",
    "        project_train_png = \"./train_3d\"\n",
    "\n",
    "    # original image\n",
    "    for i in tqdm(range(0,len(id_train))):\n",
    "        im = imageio.imread(path_train_png+png_list[i]+'.png')\n",
    "        temp = np.array(im[:,:,1:2])\n",
    "        x_train[i,:,:] = cv2.resize(temp, (448,448))/255.\n",
    "        del im, temp\n",
    "    print(\"Check - The final one image is:\", png_list[i])\n",
    "\n",
    "    # xy_plane image    \n",
    "    for i in tqdm(range(0,len(id_train))):\n",
    "        i = i+len(id_train)*1\n",
    "\n",
    "        im = imageio.imread(f\"{project_train_png}/{png_list[i]}_xyplane.png\")\n",
    "        x_train[i,:,:] = cv2.resize(im, (448,448))/255. \n",
    "        del im\n",
    "    print(\"Check - The final one image is:\", png_list[i])\n",
    "\n",
    "    # yz_plane image\n",
    "    for i in tqdm(range(0,len(id_train))):\n",
    "        i = i+len(id_train)*2\n",
    "\n",
    "        im = imageio.imread(f\"{project_train_png}/{png_list[i]}_yzplane.png\")\n",
    "        x_train[i,:,:] = cv2.resize(im, (448,448))/255.\n",
    "        del im\n",
    "    print(\"Check - The final one image is:\", png_list[i])\n",
    "\n",
    "    # xz_plane image\n",
    "    for i in tqdm(range(0,len(id_train))):\n",
    "        i = i+len(id_train)*3\n",
    "\n",
    "        im = imageio.imread(f\"{project_train_png}/{png_list[i]}_xzplane.png\")\n",
    "        x_train[i,:,:] = cv2.resize(im, (448,448))/255\n",
    "        del im\n",
    "    print(\"Check - The final one image is:\", png_list[i])\n",
    "\n",
    "    x_train = x_train[:,:,:,np.newaxis]"
   ]
  },
  {
   "cell_type": "code",
   "execution_count": 17,
   "id": "6bc0548d",
   "metadata": {
    "execution": {
     "iopub.execute_input": "2022-05-31T08:47:55.872514Z",
     "iopub.status.busy": "2022-05-31T08:47:55.871789Z",
     "iopub.status.idle": "2022-05-31T08:47:55.879183Z",
     "shell.execute_reply": "2022-05-31T08:47:55.878316Z"
    },
    "papermill": {
     "duration": 0.029512,
     "end_time": "2022-05-31T08:47:55.881066",
     "exception": false,
     "start_time": "2022-05-31T08:47:55.851554",
     "status": "completed"
    },
    "tags": []
   },
   "outputs": [],
   "source": [
    "# checking the enlarge effect of signal(>0.01) to 1 and remove other to 0\n",
    "\n",
    "if not use_dataset_CNN_model:\n",
    "    image_index = 0\n",
    "\n",
    "    print(\"after enlarge signal\")\n",
    "    fig = plt.figure(figsize=(8,8), dpi=100)\n",
    "    for i in [0,1,2,3]:\n",
    "        plt.subplot(2,2,i+1)\n",
    "        plt.imshow(x_train[len(id_train)*i+image_index,:,:])\n",
    "    plt.show()\n",
    "    plt.clf()\n",
    "    plt.close(fig)"
   ]
  },
  {
   "cell_type": "markdown",
   "id": "26b0c274",
   "metadata": {
    "papermill": {
     "duration": 0.019635,
     "end_time": "2022-05-31T08:47:55.920546",
     "exception": false,
     "start_time": "2022-05-31T08:47:55.900911",
     "status": "completed"
    },
    "tags": []
   },
   "source": [
    "# 4. model training"
   ]
  },
  {
   "cell_type": "code",
   "execution_count": 18,
   "id": "44d650e3",
   "metadata": {
    "execution": {
     "iopub.execute_input": "2022-05-31T08:47:55.961820Z",
     "iopub.status.busy": "2022-05-31T08:47:55.961418Z",
     "iopub.status.idle": "2022-05-31T08:47:55.972096Z",
     "shell.execute_reply": "2022-05-31T08:47:55.971310Z"
    },
    "papermill": {
     "duration": 0.033843,
     "end_time": "2022-05-31T08:47:55.973988",
     "exception": false,
     "start_time": "2022-05-31T08:47:55.940145",
     "status": "completed"
    },
    "tags": []
   },
   "outputs": [],
   "source": [
    "if not use_dataset_CNN_model:\n",
    "    from tensorflow.keras.models import Sequential\n",
    "    from tensorflow.keras.layers import *\n",
    "    from tensorflow.keras.optimizers import SGD, Adadelta\n",
    "    from tensorflow.keras import regularizers\n",
    "    #from tensorflow.keras.callbacks import EarlyStopping\n",
    "    #early_stopping = EarlyStopping(monitor=\"val_loss\",min_delta=0.01,patience=50,mode=\"auto\",baseline=None,restore_best_weights=False)\n",
    "\n",
    "    model = Sequential()\n",
    "    model.add(Conv2D(filters=32, kernel_size=(1,1), strides=(1, 1), activation='relu', input_shape=(448,448,1)))\n",
    "    model.add(Conv2D(filters=64, kernel_size=(3,3), strides=(1, 1), activation='relu'))\n",
    "    model.add(MaxPooling2D(pool_size=(2, 2), strides=(2, 2)))\n",
    "    model.add(Flatten())\n",
    "    model.add(Dense(64 , activation='relu'))\n",
    "    model.add(Dense(16 , activation='relu',kernel_regularizer=regularizers.l1_l2(l1=0.01, l2=0)))\n",
    "    model.add(Dropout(0.1))\n",
    "    model.add(Dense(2  , activation='softmax'))\n",
    "\n",
    "    model.compile(loss='binary_crossentropy',optimizer=Adadelta(),metrics=['accuracy'])\n",
    "    model.summary()\n",
    "    # Train DNN model \n",
    "    # rec = model.fit(x_train, y_train, epochs=10, batch_size=15,verbose=1,validation_split=0.1)\n",
    "    rec = model.fit(x_train, y_train, epochs=50, batch_size=15,verbose=1,validation_split=0.1)\n",
    "\n",
    "    # Save model\n",
    "    model.save('model_CNN.h5')"
   ]
  },
  {
   "cell_type": "code",
   "execution_count": 19,
   "id": "379838d0",
   "metadata": {
    "execution": {
     "iopub.execute_input": "2022-05-31T08:47:56.015484Z",
     "iopub.status.busy": "2022-05-31T08:47:56.014710Z",
     "iopub.status.idle": "2022-05-31T08:47:56.026439Z",
     "shell.execute_reply": "2022-05-31T08:47:56.025657Z"
    },
    "papermill": {
     "duration": 0.035045,
     "end_time": "2022-05-31T08:47:56.028425",
     "exception": false,
     "start_time": "2022-05-31T08:47:55.993380",
     "status": "completed"
    },
    "tags": []
   },
   "outputs": [],
   "source": [
    "if not use_dataset_CNN_model:\n",
    "    fig = plt.figure(dpi = 100)\n",
    "    plt.plot(rec.history['accuracy'], lw=3, label='Train', color='blue')\n",
    "    plt.plot(rec.history['val_accuracy'], lw=3, label='Validation', color='red')\n",
    "    plt.xlabel('epoch')\n",
    "    plt.ylabel('Accuracy')\n",
    "    plt.legend()\n",
    "    plt.show()\n",
    "    plt.close('all')\n",
    "    plt.clf()\n",
    "\n",
    "    fig = plt.figure(dpi = 100)\n",
    "    plt.plot(rec.history['loss'], lw=3, label='Train', color='blue')\n",
    "    plt.plot(rec.history['val_loss'], lw=3, label='Validation', color='red')\n",
    "    plt.xlabel('epoch')\n",
    "    plt.ylabel('Loss')\n",
    "    plt.legend()\n",
    "    plt.show()\n",
    "    plt.close('all')\n",
    "    plt.clf()\n",
    "    gc.collect()\n",
    "\n",
    "    del rec"
   ]
  },
  {
   "cell_type": "code",
   "execution_count": 20,
   "id": "e614c2a7",
   "metadata": {
    "execution": {
     "iopub.execute_input": "2022-05-31T08:47:56.069529Z",
     "iopub.status.busy": "2022-05-31T08:47:56.068628Z",
     "iopub.status.idle": "2022-05-31T08:48:29.406173Z",
     "shell.execute_reply": "2022-05-31T08:48:29.405227Z"
    },
    "papermill": {
     "duration": 33.378943,
     "end_time": "2022-05-31T08:48:29.427218",
     "exception": false,
     "start_time": "2022-05-31T08:47:56.048275",
     "status": "completed"
    },
    "tags": []
   },
   "outputs": [
    {
     "name": "stdout",
     "output_type": "stream",
     "text": [
      "loading model\n"
     ]
    },
    {
     "name": "stderr",
     "output_type": "stream",
     "text": [
      "2022-05-31 08:48:01.947401: I tensorflow/stream_executor/cuda/cuda_gpu_executor.cc:937] successful NUMA node read from SysFS had negative value (-1), but there must be at least one NUMA node, so returning NUMA node zero\n",
      "2022-05-31 08:48:02.070891: I tensorflow/stream_executor/cuda/cuda_gpu_executor.cc:937] successful NUMA node read from SysFS had negative value (-1), but there must be at least one NUMA node, so returning NUMA node zero\n",
      "2022-05-31 08:48:02.071779: I tensorflow/stream_executor/cuda/cuda_gpu_executor.cc:937] successful NUMA node read from SysFS had negative value (-1), but there must be at least one NUMA node, so returning NUMA node zero\n",
      "2022-05-31 08:48:02.074144: I tensorflow/core/platform/cpu_feature_guard.cc:142] This TensorFlow binary is optimized with oneAPI Deep Neural Network Library (oneDNN) to use the following CPU instructions in performance-critical operations:  AVX2 AVX512F FMA\n",
      "To enable them in other operations, rebuild TensorFlow with the appropriate compiler flags.\n",
      "2022-05-31 08:48:02.074604: I tensorflow/stream_executor/cuda/cuda_gpu_executor.cc:937] successful NUMA node read from SysFS had negative value (-1), but there must be at least one NUMA node, so returning NUMA node zero\n",
      "2022-05-31 08:48:02.075916: I tensorflow/stream_executor/cuda/cuda_gpu_executor.cc:937] successful NUMA node read from SysFS had negative value (-1), but there must be at least one NUMA node, so returning NUMA node zero\n",
      "2022-05-31 08:48:02.077200: I tensorflow/stream_executor/cuda/cuda_gpu_executor.cc:937] successful NUMA node read from SysFS had negative value (-1), but there must be at least one NUMA node, so returning NUMA node zero\n",
      "2022-05-31 08:48:04.473763: I tensorflow/stream_executor/cuda/cuda_gpu_executor.cc:937] successful NUMA node read from SysFS had negative value (-1), but there must be at least one NUMA node, so returning NUMA node zero\n",
      "2022-05-31 08:48:04.474612: I tensorflow/stream_executor/cuda/cuda_gpu_executor.cc:937] successful NUMA node read from SysFS had negative value (-1), but there must be at least one NUMA node, so returning NUMA node zero\n",
      "2022-05-31 08:48:04.475338: I tensorflow/stream_executor/cuda/cuda_gpu_executor.cc:937] successful NUMA node read from SysFS had negative value (-1), but there must be at least one NUMA node, so returning NUMA node zero\n",
      "2022-05-31 08:48:04.475957: I tensorflow/core/common_runtime/gpu/gpu_device.cc:1510] Created device /job:localhost/replica:0/task:0/device:GPU:0 with 15403 MB memory:  -> device: 0, name: Tesla P100-PCIE-16GB, pci bus id: 0000:00:04.0, compute capability: 6.0\n"
     ]
    },
    {
     "name": "stdout",
     "output_type": "stream",
     "text": [
      "loading finish\n"
     ]
    }
   ],
   "source": [
    "if use_dataset_CNN_model:\n",
    "    from tensorflow.keras.models import load_model\n",
    "    print(\"loading model\")\n",
    "    model = load_model('../input/3dto2dcnnmodel/model_CNN.h5')\n",
    "    print(\"loading finish\")\n",
    "    gc.collect()"
   ]
  },
  {
   "cell_type": "markdown",
   "id": "228520dd",
   "metadata": {
    "papermill": {
     "duration": 0.019468,
     "end_time": "2022-05-31T08:48:29.466192",
     "exception": false,
     "start_time": "2022-05-31T08:48:29.446724",
     "status": "completed"
    },
    "tags": []
   },
   "source": [
    "# 5. Prediction of test data\n",
    "In this part, we can get the first test data prediction of CNN model\n",
    "## [Resize (1050,1050) -> (448,448)] + [prediction the test data]\n",
    "In order to save the ram, we separate loading data into 4 parts:<br>\n",
    "{1.original .png /<br> 2.xy plane .png /<br> 3.yz plane .png /<br> 4.xz plane .png}<br>\n",
    "We predict them separatedly and get the average or 10 results of prediciton.\n",
    "(also clear the ram when finish each part to save the ram)"
   ]
  },
  {
   "cell_type": "code",
   "execution_count": 21,
   "id": "9b96a67d",
   "metadata": {
    "execution": {
     "iopub.execute_input": "2022-05-31T08:48:29.507166Z",
     "iopub.status.busy": "2022-05-31T08:48:29.506542Z",
     "iopub.status.idle": "2022-05-31T08:49:37.278428Z",
     "shell.execute_reply": "2022-05-31T08:49:37.277522Z"
    },
    "papermill": {
     "duration": 67.794753,
     "end_time": "2022-05-31T08:49:37.280557",
     "exception": false,
     "start_time": "2022-05-31T08:48:29.485804",
     "status": "completed"
    },
    "tags": []
   },
   "outputs": [
    {
     "name": "stderr",
     "output_type": "stream",
     "text": [
      "100%|██████████| 473/473 [00:33<00:00, 13.99it/s]\n",
      "2022-05-31 08:49:04.255143: I tensorflow/compiler/mlir/mlir_graph_optimization_pass.cc:185] None of the MLIR Optimization Passes are enabled (registered 2)\n",
      "2022-05-31 08:49:05.267124: I tensorflow/stream_executor/cuda/cuda_dnn.cc:369] Loaded cuDNN version 8005\n",
      "100%|██████████| 473/473 [00:05<00:00, 81.81it/s]\n",
      "100%|██████████| 473/473 [00:06<00:00, 76.07it/s]\n",
      "100%|██████████| 473/473 [00:06<00:00, 76.50it/s]\n"
     ]
    },
    {
     "data": {
      "text/plain": [
       "3066"
      ]
     },
     "execution_count": 21,
     "metadata": {},
     "output_type": "execute_result"
    }
   ],
   "source": [
    "# create the empty 1d array to save the prediction result\n",
    "result_test  = np.zeros(len(id_test_df))\n",
    "\n",
    "if use_dataset_test_proj:\n",
    "    project_test_png = \"/kaggle/input/3dto2d-preimage/test_3d\"\n",
    "else:\n",
    "    project_test_png = \"./test_3d\"\n",
    "    \n",
    "def predict_cnn(id_df, path_png, filename, model, filetype):\n",
    "    # create the empty 2d array to save the loading test data\n",
    "    x = np.zeros((len(id_df),448,448))\n",
    "    if filename == '.png':\n",
    "        path_png = '../input/phys591000-2022-final-project-ii/fc_'+filetype+'_data/fc_'+filetype+'_data/png'\n",
    "    \n",
    "        for i in tqdm(range(0,len(id_df))):\n",
    "            im = imageio.imread(f\"{path_png}/{id_df[i]}{filename}\")\n",
    "            temp = np.array(im[:,:,1:2])\n",
    "            x[i,:,:] = cv2.resize(temp, (448,448))/255.\n",
    "\n",
    "            del im, temp\n",
    "\n",
    "        x = x[:,:,:,np.newaxis]\n",
    "        prediction_test = model.predict(x)[:,1]\n",
    "        del x\n",
    "        return prediction_test\n",
    "    \n",
    "    else:\n",
    "        for i in tqdm(range(0,len(id_df))):\n",
    "            im = imageio.imread(f\"{path_png}/{id_df[i]}{filename}\")\n",
    "            x[i,:,:] = cv2.resize(im, (448,448))/255.\n",
    "\n",
    "            del im\n",
    "\n",
    "        x = x[:,:,:,np.newaxis]\n",
    "        prediction_test = model.predict(x)[:,1]\n",
    "        del x\n",
    "        return prediction_test \n",
    "    \n",
    "    \n",
    "# original image\n",
    "prediction_test = predict_cnn(id_test_df, project_test_png, '.png', model , 'test')\n",
    "result_test  = result_test + prediction_test\n",
    "del prediction_test\n",
    "\n",
    "\n",
    "# xy_plane image  \n",
    "prediction_test = predict_cnn(id_test_df, project_test_png, '_xyplane.png', model , 'test')\n",
    "result_test  = result_test + prediction_test\n",
    "del prediction_test\n",
    "\n",
    "\n",
    "# yz_plane image\n",
    "prediction_test = predict_cnn(id_test_df, project_test_png, '_yzplane.png', model , 'test')\n",
    "result_test  = result_test + prediction_test\n",
    "del prediction_test\n",
    "\n",
    "# xz_plane image\n",
    "prediction_test = predict_cnn(id_test_df, project_test_png, '_xzplane.png', model , 'test')\n",
    "result_test  = result_test + prediction_test\n",
    "del prediction_test\n",
    "\n",
    "del project_test_png\n",
    "gc.collect()"
   ]
  },
  {
   "cell_type": "code",
   "execution_count": 22,
   "id": "6c9cff0c",
   "metadata": {
    "execution": {
     "iopub.execute_input": "2022-05-31T08:49:37.374147Z",
     "iopub.status.busy": "2022-05-31T08:49:37.373757Z",
     "iopub.status.idle": "2022-05-31T08:49:37.380761Z",
     "shell.execute_reply": "2022-05-31T08:49:37.379594Z"
    },
    "papermill": {
     "duration": 0.056524,
     "end_time": "2022-05-31T08:49:37.383301",
     "exception": false,
     "start_time": "2022-05-31T08:49:37.326777",
     "status": "completed"
    },
    "tags": []
   },
   "outputs": [],
   "source": [
    "# get the average value of prediction\n",
    "result_test_avg = result_test/4.\n",
    "result_test_10  = np.zeros(len(id_test_df), dtype=np.int8)\n",
    "\n",
    "# determine which one is prediction as 1 or 0 \n",
    "for i in range(len(id_test_df)):\n",
    "    \n",
    "    if result_test_avg[i]<0.5 :\n",
    "        result_test_10[i] = 0\n",
    "    elif result_test_avg[i]>=0.5 :\n",
    "        result_test_10[i] = 1\n",
    "    else:\n",
    "        print(\"something wrong\")"
   ]
  },
  {
   "cell_type": "code",
   "execution_count": 23,
   "id": "ca1e9006",
   "metadata": {
    "execution": {
     "iopub.execute_input": "2022-05-31T08:49:37.479481Z",
     "iopub.status.busy": "2022-05-31T08:49:37.479123Z",
     "iopub.status.idle": "2022-05-31T08:49:37.491414Z",
     "shell.execute_reply": "2022-05-31T08:49:37.490614Z"
    },
    "papermill": {
     "duration": 0.062027,
     "end_time": "2022-05-31T08:49:37.493389",
     "exception": false,
     "start_time": "2022-05-31T08:49:37.431362",
     "status": "completed"
    },
    "tags": []
   },
   "outputs": [],
   "source": [
    "np.save('test_prediciton_avg', result_test_avg)\n",
    "np.save('test_prediciton_10', result_test_10)\n",
    "\n",
    "d = {'id': id_test_df,\n",
    "     'prediction': result_test_avg}\n",
    "df = pd.DataFrame(data=d)\n",
    "\n",
    "df.to_csv('result_CNN.csv', index=0)\n",
    "del d, df, id_test_df, result_test, result_test_avg, result_test_10"
   ]
  },
  {
   "cell_type": "markdown",
   "id": "25a0a28c",
   "metadata": {
    "papermill": {
     "duration": 0.046795,
     "end_time": "2022-05-31T08:49:37.586317",
     "exception": false,
     "start_time": "2022-05-31T08:49:37.539522",
     "status": "completed"
    },
    "tags": []
   },
   "source": [
    "# 6. Prediction of train data\n",
    "In this part, we use the CNN model which is already trained to predict the training data.<br>\n",
    "These predictions will be used by the XGBoost model in part 7.\n",
    "\n",
    "## [Resize (1050,1050) -> (448,448)] + [prediction the test data]\n",
    "\n",
    "In order to save the ram, we separate loading data into 4 parts:\n",
    "{1.original .png /\n",
    "2.xy plane .png /\n",
    "3.yz plane .png /\n",
    "4.xz plane .png}\n",
    "We predict them separatedly and get the average or 10 results of prediciton. (also clear the ram when finish each part to save the ram)\n",
    "\n",
    "***Remind that***:<br>\n",
    "Beacause the **XGBoost model need all training data** instead of balance number of type1/0 data,\n",
    "so we won't have the step of balance like part 3-1"
   ]
  },
  {
   "cell_type": "code",
   "execution_count": 24,
   "id": "e2b31179",
   "metadata": {
    "execution": {
     "iopub.execute_input": "2022-05-31T08:49:37.679323Z",
     "iopub.status.busy": "2022-05-31T08:49:37.678936Z",
     "iopub.status.idle": "2022-05-31T08:52:34.691328Z",
     "shell.execute_reply": "2022-05-31T08:52:34.690482Z"
    },
    "papermill": {
     "duration": 177.06217,
     "end_time": "2022-05-31T08:52:34.693720",
     "exception": false,
     "start_time": "2022-05-31T08:49:37.631550",
     "status": "completed"
    },
    "tags": []
   },
   "outputs": [
    {
     "name": "stderr",
     "output_type": "stream",
     "text": [
      "100%|██████████| 1500/1500 [01:32<00:00, 16.21it/s]\n",
      "2022-05-31 08:51:11.912692: W tensorflow/core/framework/cpu_allocator_impl.cc:80] Allocation of 1204224000 exceeds 10% of free system memory.\n",
      "2022-05-31 08:51:13.278261: W tensorflow/core/framework/cpu_allocator_impl.cc:80] Allocation of 1204224000 exceeds 10% of free system memory.\n",
      "100%|██████████| 1500/1500 [00:17<00:00, 88.21it/s]\n",
      "2022-05-31 08:51:36.079135: W tensorflow/core/framework/cpu_allocator_impl.cc:80] Allocation of 1204224000 exceeds 10% of free system memory.\n",
      "2022-05-31 08:51:37.690936: W tensorflow/core/framework/cpu_allocator_impl.cc:80] Allocation of 1204224000 exceeds 10% of free system memory.\n",
      "100%|██████████| 1500/1500 [00:16<00:00, 90.90it/s]\n",
      "2022-05-31 08:52:01.155264: W tensorflow/core/framework/cpu_allocator_impl.cc:80] Allocation of 1204224000 exceeds 10% of free system memory.\n",
      "100%|██████████| 1500/1500 [00:17<00:00, 86.75it/s]\n"
     ]
    },
    {
     "data": {
      "text/plain": [
       "3068"
      ]
     },
     "execution_count": 24,
     "metadata": {},
     "output_type": "execute_result"
    }
   ],
   "source": [
    "# create the empty 1d array to save the predict result\n",
    "result_train  = np.zeros(len(id_train_df))\n",
    "\n",
    "if use_dataset_train_proj:\n",
    "    project_train_png = \"/kaggle/input/3dto2d-preimage/train_3d\"\n",
    "else:\n",
    "    project_train_png = \"./train_3d\"\n",
    "    \n",
    "    \n",
    "# original image\n",
    "prediction_train = predict_cnn(id_train_df, project_train_png, '.png', model , 'train')\n",
    "result_train  = result_train + prediction_train\n",
    "del prediction_train\n",
    "\n",
    "\n",
    "# xy_plane image  \n",
    "prediction_train = predict_cnn(id_train_df, project_train_png, '_xyplane.png', model , 'train')\n",
    "result_train  = result_train + prediction_train\n",
    "del prediction_train\n",
    "\n",
    "\n",
    "# yz_plane image\n",
    "prediction_train = predict_cnn(id_train_df, project_train_png, '_yzplane.png', model , 'train')\n",
    "result_train  = result_train + prediction_train\n",
    "del prediction_train\n",
    "\n",
    "\n",
    "# xz_plane image\n",
    "prediction_train = predict_cnn(id_train_df, project_train_png, '_xzplane.png', model , 'train')\n",
    "result_train  = result_train + prediction_train\n",
    "del prediction_train\n",
    "\n",
    "del project_train_png\n",
    "gc.collect()"
   ]
  },
  {
   "cell_type": "code",
   "execution_count": 25,
   "id": "23447978",
   "metadata": {
    "execution": {
     "iopub.execute_input": "2022-05-31T08:52:34.938828Z",
     "iopub.status.busy": "2022-05-31T08:52:34.938410Z",
     "iopub.status.idle": "2022-05-31T08:52:34.948394Z",
     "shell.execute_reply": "2022-05-31T08:52:34.947602Z"
    },
    "papermill": {
     "duration": 0.135694,
     "end_time": "2022-05-31T08:52:34.950682",
     "exception": false,
     "start_time": "2022-05-31T08:52:34.814988",
     "status": "completed"
    },
    "tags": []
   },
   "outputs": [
    {
     "name": "stdout",
     "output_type": "stream",
     "text": [
      "The number of the same train result is:1433\n",
      "correct ratio of training data is:95.53%\n"
     ]
    }
   ],
   "source": [
    "# get the average value of prediction\n",
    "result_train_avg = result_train/4.\n",
    "result_train_10  = np.zeros(len(id_train_df), dtype=np.int8)\n",
    "\n",
    "# determine which one is prediction as 1 or 0 \n",
    "for i in range(len(id_train_df)):\n",
    "    \n",
    "    if result_train_avg[i]<0.5 :\n",
    "        result_train_10[i] = 0\n",
    "    elif result_train_avg[i]>=0.5 :\n",
    "        result_train_10[i] = 1\n",
    "    else:\n",
    "        print(\"something wrong\")\n",
    "    \n",
    "# check the correct rate \n",
    "correct = (label_train_df == result_train_10).sum()\n",
    "print(f\"The number of the same train result is:{correct}\")\n",
    "print(f\"correct ratio of training data is:{(round(correct/len(id_train_df),4))*100}%\")"
   ]
  },
  {
   "cell_type": "code",
   "execution_count": 26,
   "id": "27dea994",
   "metadata": {
    "execution": {
     "iopub.execute_input": "2022-05-31T08:52:35.202051Z",
     "iopub.status.busy": "2022-05-31T08:52:35.201674Z",
     "iopub.status.idle": "2022-05-31T08:52:35.383142Z",
     "shell.execute_reply": "2022-05-31T08:52:35.382053Z"
    },
    "papermill": {
     "duration": 0.310007,
     "end_time": "2022-05-31T08:52:35.385706",
     "exception": false,
     "start_time": "2022-05-31T08:52:35.075699",
     "status": "completed"
    },
    "tags": []
   },
   "outputs": [
    {
     "data": {
      "text/plain": [
       "1421"
      ]
     },
     "execution_count": 26,
     "metadata": {},
     "output_type": "execute_result"
    }
   ],
   "source": [
    "np.save('train_prediciton_avg', result_train_avg)\n",
    "np.save('train_prediciton_10', result_train_10)\n",
    "\n",
    "del model, label_train_df, result_train_avg, result_train_10, result_train, correct\n",
    "gc.collect()"
   ]
  },
  {
   "cell_type": "markdown",
   "id": "25e2eb98",
   "metadata": {
    "papermill": {
     "duration": 0.185772,
     "end_time": "2022-05-31T08:52:35.694879",
     "exception": false,
     "start_time": "2022-05-31T08:52:35.509107",
     "status": "completed"
    },
    "tags": []
   },
   "source": [
    "# 7. Geometric features and 2d line plot"
   ]
  },
  {
   "cell_type": "markdown",
   "id": "8b38fa55",
   "metadata": {
    "papermill": {
     "duration": 0.123409,
     "end_time": "2022-05-31T08:52:35.941284",
     "exception": false,
     "start_time": "2022-05-31T08:52:35.817875",
     "status": "completed"
    },
    "tags": []
   },
   "source": [
    "## 7.1 Import and install packages needed in this section"
   ]
  },
  {
   "cell_type": "code",
   "execution_count": 27,
   "id": "6816a16a",
   "metadata": {
    "execution": {
     "iopub.execute_input": "2022-05-31T08:52:36.194221Z",
     "iopub.status.busy": "2022-05-31T08:52:36.193804Z",
     "iopub.status.idle": "2022-05-31T08:53:00.643805Z",
     "shell.execute_reply": "2022-05-31T08:53:00.641269Z"
    },
    "papermill": {
     "duration": 24.579581,
     "end_time": "2022-05-31T08:53:00.647178",
     "exception": false,
     "start_time": "2022-05-31T08:52:36.067597",
     "status": "completed"
    },
    "tags": []
   },
   "outputs": [
    {
     "name": "stdout",
     "output_type": "stream",
     "text": [
      "Collecting pylmeasure\r\n",
      "  Downloading pylmeasure-0.2.0-py3-none-any.whl (3.1 MB)\r\n",
      "\u001b[2K     \u001b[90m━━━━━━━━━━━━━━━━━━━━━━━━━━━━━━━━━━━━━━━━\u001b[0m \u001b[32m3.1/3.1 MB\u001b[0m \u001b[31m20.8 MB/s\u001b[0m eta \u001b[36m0:00:00\u001b[0m\r\n",
      "\u001b[?25hInstalling collected packages: pylmeasure\r\n",
      "Successfully installed pylmeasure-0.2.0\r\n",
      "\u001b[33mWARNING: Running pip as the 'root' user can result in broken permissions and conflicting behaviour with the system package manager. It is recommended to use a virtual environment instead: https://pip.pypa.io/warnings/venv\u001b[0m\u001b[33m\r\n",
      "\u001b[0mCollecting ngauge\r\n",
      "  Downloading nGauge-1.0.0-py3-none-any.whl (35 kB)\r\n",
      "Requirement already satisfied: numpy in /opt/conda/lib/python3.7/site-packages (from ngauge) (1.21.6)\r\n",
      "Requirement already satisfied: shapely in /opt/conda/lib/python3.7/site-packages (from ngauge) (1.8.0)\r\n",
      "Requirement already satisfied: scipy in /opt/conda/lib/python3.7/site-packages (from ngauge) (1.7.3)\r\n",
      "Installing collected packages: ngauge\r\n",
      "Successfully installed ngauge-1.0.0\r\n",
      "\u001b[33mWARNING: Running pip as the 'root' user can result in broken permissions and conflicting behaviour with the system package manager. It is recommended to use a virtual environment instead: https://pip.pypa.io/warnings/venv\u001b[0m\u001b[33m\r\n",
      "\u001b[0m"
     ]
    }
   ],
   "source": [
    "! pip install pylmeasure\n",
    "! pip install ngauge\n",
    "import numpy as np\n",
    "import pandas as pd \n",
    "import matplotlib.pyplot as plt\n",
    "from pylmeasure import *\n",
    "import ngauge\n",
    "import imageio\n",
    "import skimage.io\n",
    "import cv2\n",
    "from io import BytesIO\n",
    "import PIL\n",
    "from tqdm import tqdm"
   ]
  },
  {
   "cell_type": "markdown",
   "id": "1709f66f",
   "metadata": {
    "papermill": {
     "duration": 0.208735,
     "end_time": "2022-05-31T08:53:01.076589",
     "exception": false,
     "start_time": "2022-05-31T08:53:00.867854",
     "status": "completed"
    },
    "tags": []
   },
   "source": [
    "## 7.2 Define data generator functions "
   ]
  },
  {
   "cell_type": "code",
   "execution_count": 28,
   "id": "4813fabc",
   "metadata": {
    "execution": {
     "iopub.execute_input": "2022-05-31T08:53:01.390321Z",
     "iopub.status.busy": "2022-05-31T08:53:01.389589Z",
     "iopub.status.idle": "2022-05-31T08:53:01.414948Z",
     "shell.execute_reply": "2022-05-31T08:53:01.413948Z"
    },
    "papermill": {
     "duration": 0.158029,
     "end_time": "2022-05-31T08:53:01.416797",
     "exception": false,
     "start_time": "2022-05-31T08:53:01.258768",
     "status": "completed"
    },
    "tags": []
   },
   "outputs": [],
   "source": [
    "# generate train and test files' path \n",
    "def generate_filepath(path,files):\n",
    "    swcFiles = []\n",
    "    for file in files:\n",
    "        swcFiles.append(path+file+'.swc')\n",
    "    return swcFiles\n",
    "\n",
    "#L-Measure generate features\n",
    "def generate_features(swcFiles):\n",
    "    #Select the feature function that we want to apply into trainging\n",
    "    support_list = ['Length', 'EucDistance', 'PathDistance', 'Terminal_degree', 'Branch_pathlength', 'Contraction', 'Fragmentation', 'Partition_asymmetry', 'Bif_ampl_local', 'Bif_ampl_remote', 'Bif_tilt_local', 'Bif_tilt_remote', 'Helix', 'Fractal_Dim']\n",
    "    LMOutput  = getMeasure(support_list, swcFiles)\n",
    "    data = np.zeros((len(swcFiles),57))\n",
    "    number_type = [\"TotalSum\",\"Minimum\",\"Average\",\"Maximum\",\"StdDev\"]\n",
    "    choose = [[0,2,3,4],\n",
    "              [0,2,3,4],\n",
    "              [0,2,3,4],\n",
    "              [0,2,3,4],\n",
    "              [0,2,3,4],\n",
    "              [0,1,2,4],\n",
    "              [0,2,3,4],\n",
    "              [0,2,4],\n",
    "              [0,1,2,3,4],\n",
    "              [0,1,2,3,4],\n",
    "              [0,1,2,3,4],\n",
    "              [0,1,2,3,4],\n",
    "              [0,2,4],\n",
    "              [2,3,4]]\n",
    "    for i in tqdm(range(len(swcFiles))):\n",
    "        k = 0\n",
    "        for j in range(len(support_list)):\n",
    "            for tick in choose[j]:\n",
    "                data[i,k] = LMOutput[j][\"WholeCellMeasuresDict\"][i][number_type[tick]]\n",
    "                k += 1\n",
    "    return data\n",
    "\n",
    "#nGuage generate figures 128*128*3\n",
    "def make_fig(swcFiles):\n",
    "    x_train = np.zeros((len(swcFiles),128,128,3))\n",
    "    x_train = x_train.astype(int)\n",
    "\n",
    "    fig = plt.figure(figsize=(32, 32), dpi=4)\n",
    "\n",
    "    for i in tqdm(range(len(swcFiles))):\n",
    "        ax = fig.add_subplot(111)\n",
    "        ax.set_aspect(\"equal\")\n",
    "\n",
    "        neuron = ngauge.Neuron.from_swc(swcFiles[i])\n",
    "        fig = neuron.plot(fig=fig, ax=ax, axis=\"x\", color=(0, 0, 0)) #nGuage function: plot the neuron line plot project along x axis \n",
    "        ax = fig.get_axes()[0]\n",
    "        ax.axis('off')\n",
    "\n",
    "        buffer_ = BytesIO() # Use the ram as the buffer to store the figure \n",
    "        plt.savefig(buffer_,format = 'png')\n",
    "        buffer_.seek(0)\n",
    "        dataPIL = PIL.Image.open(buffer_).convert('L')\n",
    "        data = np.ceil((np.asarray(dataPIL)/255*-1)+1) #Nolmalize the matric after loding from PIL\n",
    "        x_train[i,:,:,0] = data.astype(int) # reduce the data size (since the data would only be 1 or 0)\n",
    "        buffer_.close()\n",
    "        plt.clf()\n",
    "\n",
    "        ax = fig.add_subplot(111)\n",
    "        ax.set_aspect(\"equal\")\n",
    "\n",
    "        fig = neuron.plot(fig=fig, ax=ax, axis=\"y\", color=(0, 0, 0)) #nGuage function: plot the neuron line plot project along y axis \n",
    "        ax = fig.get_axes()[0]\n",
    "        ax.axis('off')\n",
    "\n",
    "        buffer_ = BytesIO() # Use the ram as the buffer to store the figure \n",
    "        plt.savefig(buffer_,format = 'png')\n",
    "        buffer_.seek(0)\n",
    "        dataPIL = PIL.Image.open(buffer_).convert('L')\n",
    "        data = np.ceil((np.asarray(dataPIL)/255*-1)+1) #Nolmalize the matric after loding from PIL\n",
    "        x_train[i,:,:,1] = data.astype(int) # reduce the data size (since the data would only be 1 or 0)\n",
    "        buffer_.close()\n",
    "        plt.clf()\n",
    "\n",
    "        ax = fig.add_subplot(111)\n",
    "        ax.set_aspect(\"equal\")\n",
    "\n",
    "        fig = neuron.plot(fig=fig, ax=ax, axis=\"z\", color=(0, 0, 0)) #nGuage function: plot the neuron line plot project along z axis \n",
    "        ax = fig.get_axes()[0]\n",
    "        ax.axis('off')\n",
    "\n",
    "        buffer_ = BytesIO() # Use the ram as the buffer to store the figure \n",
    "        plt.savefig(buffer_,format = 'png')\n",
    "        buffer_.seek(0)\n",
    "        dataPIL = PIL.Image.open(buffer_).convert('L') \n",
    "        data = np.ceil((np.asarray(dataPIL)/255*-1)+1) #Nolmalize the matric after loding from PIL\n",
    "        x_train[i,:,:,2] = data.astype(int) # reduce the data size (since the data would only be 1 or 0)\n",
    "        buffer_.close()\n",
    "        plt.clf()\n",
    "    return x_train"
   ]
  },
  {
   "cell_type": "markdown",
   "id": "d235470e",
   "metadata": {
    "papermill": {
     "duration": 0.127193,
     "end_time": "2022-05-31T08:53:01.666976",
     "exception": false,
     "start_time": "2022-05-31T08:53:01.539783",
     "status": "completed"
    },
    "tags": []
   },
   "source": [
    "## 7.3 Read scv files and save the features and figures"
   ]
  },
  {
   "cell_type": "code",
   "execution_count": 29,
   "id": "c982ab45",
   "metadata": {
    "execution": {
     "iopub.execute_input": "2022-05-31T08:53:01.922342Z",
     "iopub.status.busy": "2022-05-31T08:53:01.921931Z",
     "iopub.status.idle": "2022-05-31T09:00:55.096193Z",
     "shell.execute_reply": "2022-05-31T09:00:55.095082Z"
    },
    "papermill": {
     "duration": 473.304404,
     "end_time": "2022-05-31T09:00:55.098924",
     "exception": false,
     "start_time": "2022-05-31T08:53:01.794520",
     "status": "completed"
    },
    "tags": []
   },
   "outputs": [
    {
     "name": "stderr",
     "output_type": "stream",
     "text": [
      "100%|██████████| 1500/1500 [00:00<00:00, 25093.95it/s]\n",
      "100%|██████████| 1500/1500 [05:34<00:00,  4.48it/s]\n",
      "100%|██████████| 473/473 [00:00<00:00, 28010.98it/s]\n",
      "100%|██████████| 473/473 [01:44<00:00,  4.54it/s]\n"
     ]
    },
    {
     "data": {
      "text/plain": [
       "<Figure size 128x128 with 0 Axes>"
      ]
     },
     "metadata": {},
     "output_type": "display_data"
    },
    {
     "data": {
      "text/plain": [
       "<Figure size 128x128 with 0 Axes>"
      ]
     },
     "metadata": {},
     "output_type": "display_data"
    }
   ],
   "source": [
    "df = pd.read_csv(\"../input/phys591000-2022-final-project-ii/fc_train_data/fc_train_data/fc_training_list.csv\")\n",
    "path = '../input/phys591000-2022-final-project-ii/fc_train_data/fc_train_data/swc/'\n",
    "y_train      = np.array(df['label'])\n",
    "np.save('y_train.npy',y_train)\n",
    "\n",
    "x_train_file = np.array(df['id'])\n",
    "x_train_feature  = generate_features(generate_filepath(path,x_train_file))\n",
    "x_train_figure   = make_fig(generate_filepath(path,x_train_file))\n",
    "np.save('x_train.npy',x_train_feature)\n",
    "np.save('x_train_fig.npy',x_train_figure)\n",
    "\n",
    "df = pd.read_csv(\"../input/phys591000-2022-final-project-ii/fc_prediction_template.csv\")\n",
    "path = '../input/phys591000-2022-final-project-ii/fc_test_data/fc_test_data/swc/'\n",
    "\n",
    "x_test_file = np.array(df['id'])\n",
    "x_test_feature  = generate_features(generate_filepath(path,x_test_file))\n",
    "x_test_figure   = make_fig(generate_filepath(path,x_test_file))\n",
    "np.save('x_test.npy',x_test_feature)\n",
    "np.save('x_test_fig.npy',x_test_figure)"
   ]
  },
  {
   "cell_type": "markdown",
   "id": "c1ad3493",
   "metadata": {
    "papermill": {
     "duration": 0.273529,
     "end_time": "2022-05-31T09:00:55.652666",
     "exception": false,
     "start_time": "2022-05-31T09:00:55.379137",
     "status": "completed"
    },
    "tags": []
   },
   "source": [
    "# 8. ResNet50 network figure classification"
   ]
  },
  {
   "cell_type": "markdown",
   "id": "a22948ee",
   "metadata": {
    "papermill": {
     "duration": 0.25747,
     "end_time": "2022-05-31T09:00:56.216261",
     "exception": false,
     "start_time": "2022-05-31T09:00:55.958791",
     "status": "completed"
    },
    "tags": []
   },
   "source": [
    "## 8.1 Import packages needed in this section"
   ]
  },
  {
   "cell_type": "code",
   "execution_count": 30,
   "id": "85ab57fc",
   "metadata": {
    "execution": {
     "iopub.execute_input": "2022-05-31T09:00:56.686576Z",
     "iopub.status.busy": "2022-05-31T09:00:56.686212Z",
     "iopub.status.idle": "2022-05-31T09:00:56.692584Z",
     "shell.execute_reply": "2022-05-31T09:00:56.691791Z"
    },
    "papermill": {
     "duration": 0.242119,
     "end_time": "2022-05-31T09:00:56.694442",
     "exception": false,
     "start_time": "2022-05-31T09:00:56.452323",
     "status": "completed"
    },
    "tags": []
   },
   "outputs": [],
   "source": [
    "from tensorflow.keras.applications.resnet import ResNet50\n",
    "from tensorflow.keras.optimizers import Adadelta\n",
    "import numpy as np\n",
    "import pandas as pd \n",
    "import random"
   ]
  },
  {
   "cell_type": "markdown",
   "id": "7501ed44",
   "metadata": {
    "papermill": {
     "duration": 0.235335,
     "end_time": "2022-05-31T09:00:57.162428",
     "exception": false,
     "start_time": "2022-05-31T09:00:56.927093",
     "status": "completed"
    },
    "tags": []
   },
   "source": [
    "## 8.2 Define the data generator function\n",
    "Since the number of type 1 neurons are much more than type 0 (ratio 4:1),\n",
    "we need to balance the number of two types to do model train.<br>\n",
    "After trying different weights, we find that type1/0 with ratio 1.5:1 can get a better training."
   ]
  },
  {
   "cell_type": "code",
   "execution_count": 31,
   "id": "c7ac399c",
   "metadata": {
    "execution": {
     "iopub.execute_input": "2022-05-31T09:00:57.684085Z",
     "iopub.status.busy": "2022-05-31T09:00:57.683477Z",
     "iopub.status.idle": "2022-05-31T09:00:57.692690Z",
     "shell.execute_reply": "2022-05-31T09:00:57.691913Z"
    },
    "papermill": {
     "duration": 0.296859,
     "end_time": "2022-05-31T09:00:57.694433",
     "exception": false,
     "start_time": "2022-05-31T09:00:57.397574",
     "status": "completed"
    },
    "tags": []
   },
   "outputs": [],
   "source": [
    "def prepare_training_data(use_dataset_Res_model):\n",
    "    # load data\n",
    "    if use_dataset_Res_model:\n",
    "        x_train0 = np.load('../input/data-preprocess-2/x_train_fig.npy')\n",
    "        y_train0 = np.load('../input/data-preprocess-2/y_train.npy')\n",
    "        x_test   = np.load('../input/data-preprocess-2/x_test_img_pred.npy')\n",
    "    else:\n",
    "        x_train0 = np.load('./x_train_fig.npy')\n",
    "        y_train0 = np.load('./y_train.npy')\n",
    "        x_test   = np.load('./x_test_img_pred.npy')\n",
    "\n",
    "    #data balance\n",
    "    type0_data = x_train0[y_train0 == 0]\n",
    "    type1_data = x_train0[y_train0 == 1]\n",
    "    type0_y    = y_train0[y_train0 == 0]\n",
    "    type1_y    = y_train0[y_train0 == 1]\n",
    "\n",
    "    random.seed(1)\n",
    "    select = random.sample(range(1207),int(293*1.5))\n",
    "    type1_data = type1_data[select]\n",
    "    type1_y    = type1_y[select]\n",
    "\n",
    "    x_train_pre = np.vstack((type0_data,type1_data))\n",
    "    y_train_pre = np.hstack((type0_y,type1_y))\n",
    "\n",
    "    num = np.array(list(range(len(x_train_pre))))\n",
    "    random.seed(1)\n",
    "    np.random.shuffle(num)\n",
    "\n",
    "    x_train = x_train_pre[num]\n",
    "    y_train = y_train_pre[num]\n",
    "    y_train = y_train.astype(int)\n",
    "    y_train  = np.eye(2)[y_train] # label to one-hot\n",
    "    \n",
    "    return x_train,y_train"
   ]
  },
  {
   "cell_type": "markdown",
   "id": "3069dcf6",
   "metadata": {
    "papermill": {
     "duration": 0.241646,
     "end_time": "2022-05-31T09:00:58.168866",
     "exception": false,
     "start_time": "2022-05-31T09:00:57.927220",
     "status": "completed"
    },
    "tags": []
   },
   "source": [
    "## 8.3 Training the ResNet model"
   ]
  },
  {
   "cell_type": "code",
   "execution_count": 32,
   "id": "d21c474e",
   "metadata": {
    "execution": {
     "iopub.execute_input": "2022-05-31T09:00:58.643353Z",
     "iopub.status.busy": "2022-05-31T09:00:58.642683Z",
     "iopub.status.idle": "2022-05-31T09:03:32.218067Z",
     "shell.execute_reply": "2022-05-31T09:03:32.217173Z"
    },
    "papermill": {
     "duration": 153.81281,
     "end_time": "2022-05-31T09:03:32.220761",
     "exception": false,
     "start_time": "2022-05-31T09:00:58.407951",
     "status": "completed"
    },
    "tags": []
   },
   "outputs": [
    {
     "name": "stdout",
     "output_type": "stream",
     "text": [
      "Epoch 1/85\n",
      "14/14 - 9s - loss: 0.7150 - accuracy: 0.5410 - val_loss: 0.7001 - val_accuracy: 0.3108\n",
      "Epoch 2/85\n",
      "14/14 - 1s - loss: 0.6256 - accuracy: 0.7021 - val_loss: 0.6972 - val_accuracy: 0.3108\n",
      "Epoch 3/85\n",
      "14/14 - 1s - loss: 0.5452 - accuracy: 0.7796 - val_loss: 0.6871 - val_accuracy: 0.6892\n",
      "Epoch 4/85\n",
      "14/14 - 1s - loss: 0.4934 - accuracy: 0.8252 - val_loss: 0.6729 - val_accuracy: 0.6892\n",
      "Epoch 5/85\n",
      "14/14 - 1s - loss: 0.4720 - accuracy: 0.8328 - val_loss: 0.6564 - val_accuracy: 0.6892\n",
      "Epoch 6/85\n",
      "14/14 - 2s - loss: 0.4422 - accuracy: 0.8556 - val_loss: 0.6407 - val_accuracy: 0.6892\n",
      "Epoch 7/85\n",
      "14/14 - 1s - loss: 0.4210 - accuracy: 0.8526 - val_loss: 0.6288 - val_accuracy: 0.6892\n",
      "Epoch 8/85\n",
      "14/14 - 1s - loss: 0.4046 - accuracy: 0.8632 - val_loss: 0.6224 - val_accuracy: 0.6892\n",
      "Epoch 9/85\n",
      "14/14 - 1s - loss: 0.3926 - accuracy: 0.8663 - val_loss: 0.6225 - val_accuracy: 0.6892\n",
      "Epoch 10/85\n",
      "14/14 - 1s - loss: 0.3964 - accuracy: 0.8617 - val_loss: 0.6286 - val_accuracy: 0.6892\n",
      "Epoch 11/85\n",
      "14/14 - 2s - loss: 0.3709 - accuracy: 0.8754 - val_loss: 0.6393 - val_accuracy: 0.6892\n",
      "Epoch 12/85\n",
      "14/14 - 1s - loss: 0.3725 - accuracy: 0.8815 - val_loss: 0.6544 - val_accuracy: 0.6892\n",
      "Epoch 13/85\n",
      "14/14 - 2s - loss: 0.3631 - accuracy: 0.8799 - val_loss: 0.6718 - val_accuracy: 0.6892\n",
      "Epoch 14/85\n",
      "14/14 - 1s - loss: 0.3593 - accuracy: 0.8739 - val_loss: 0.6892 - val_accuracy: 0.6892\n",
      "Epoch 15/85\n",
      "14/14 - 1s - loss: 0.3507 - accuracy: 0.8739 - val_loss: 0.7064 - val_accuracy: 0.6892\n",
      "Epoch 16/85\n",
      "14/14 - 1s - loss: 0.3434 - accuracy: 0.8845 - val_loss: 0.7231 - val_accuracy: 0.6892\n",
      "Epoch 17/85\n",
      "14/14 - 1s - loss: 0.3425 - accuracy: 0.8799 - val_loss: 0.7396 - val_accuracy: 0.6892\n",
      "Epoch 18/85\n",
      "14/14 - 1s - loss: 0.3378 - accuracy: 0.8875 - val_loss: 0.7540 - val_accuracy: 0.6892\n",
      "Epoch 19/85\n",
      "14/14 - 1s - loss: 0.3262 - accuracy: 0.9012 - val_loss: 0.7690 - val_accuracy: 0.6892\n",
      "Epoch 20/85\n",
      "14/14 - 1s - loss: 0.3250 - accuracy: 0.8830 - val_loss: 0.7849 - val_accuracy: 0.6892\n",
      "Epoch 21/85\n",
      "14/14 - 1s - loss: 0.3091 - accuracy: 0.8921 - val_loss: 0.7985 - val_accuracy: 0.6892\n",
      "Epoch 22/85\n",
      "14/14 - 1s - loss: 0.3171 - accuracy: 0.8921 - val_loss: 0.8128 - val_accuracy: 0.6892\n",
      "Epoch 23/85\n",
      "14/14 - 2s - loss: 0.3151 - accuracy: 0.8951 - val_loss: 0.8206 - val_accuracy: 0.6892\n",
      "Epoch 24/85\n",
      "14/14 - 1s - loss: 0.3095 - accuracy: 0.8875 - val_loss: 0.8265 - val_accuracy: 0.6892\n",
      "Epoch 25/85\n",
      "14/14 - 1s - loss: 0.3039 - accuracy: 0.8936 - val_loss: 0.8339 - val_accuracy: 0.6892\n",
      "Epoch 26/85\n",
      "14/14 - 1s - loss: 0.3009 - accuracy: 0.9027 - val_loss: 0.8448 - val_accuracy: 0.6892\n",
      "Epoch 27/85\n",
      "14/14 - 1s - loss: 0.2898 - accuracy: 0.9043 - val_loss: 0.8546 - val_accuracy: 0.6892\n",
      "Epoch 28/85\n",
      "14/14 - 1s - loss: 0.2959 - accuracy: 0.9012 - val_loss: 0.8571 - val_accuracy: 0.6892\n",
      "Epoch 29/85\n",
      "14/14 - 1s - loss: 0.2811 - accuracy: 0.9103 - val_loss: 0.8566 - val_accuracy: 0.6892\n",
      "Epoch 30/85\n",
      "14/14 - 1s - loss: 0.2820 - accuracy: 0.9073 - val_loss: 0.8573 - val_accuracy: 0.6892\n",
      "Epoch 31/85\n",
      "14/14 - 1s - loss: 0.2719 - accuracy: 0.9088 - val_loss: 0.8544 - val_accuracy: 0.6892\n",
      "Epoch 32/85\n",
      "14/14 - 1s - loss: 0.2831 - accuracy: 0.8951 - val_loss: 0.8667 - val_accuracy: 0.6892\n",
      "Epoch 33/85\n",
      "14/14 - 1s - loss: 0.2803 - accuracy: 0.9088 - val_loss: 0.8700 - val_accuracy: 0.6892\n",
      "Epoch 34/85\n",
      "14/14 - 1s - loss: 0.2743 - accuracy: 0.9073 - val_loss: 0.8629 - val_accuracy: 0.6892\n",
      "Epoch 35/85\n",
      "14/14 - 1s - loss: 0.2695 - accuracy: 0.9043 - val_loss: 0.8562 - val_accuracy: 0.6892\n",
      "Epoch 36/85\n",
      "14/14 - 1s - loss: 0.2780 - accuracy: 0.9058 - val_loss: 0.8475 - val_accuracy: 0.6892\n",
      "Epoch 37/85\n",
      "14/14 - 1s - loss: 0.2758 - accuracy: 0.9103 - val_loss: 0.8092 - val_accuracy: 0.6892\n",
      "Epoch 38/85\n",
      "14/14 - 1s - loss: 0.2714 - accuracy: 0.9027 - val_loss: 0.7609 - val_accuracy: 0.6892\n",
      "Epoch 39/85\n",
      "14/14 - 1s - loss: 0.2794 - accuracy: 0.8951 - val_loss: 0.7290 - val_accuracy: 0.6892\n",
      "Epoch 40/85\n",
      "14/14 - 1s - loss: 0.2725 - accuracy: 0.8967 - val_loss: 0.6660 - val_accuracy: 0.6892\n",
      "Epoch 41/85\n",
      "14/14 - 1s - loss: 0.2518 - accuracy: 0.9149 - val_loss: 0.5995 - val_accuracy: 0.6892\n",
      "Epoch 42/85\n",
      "14/14 - 2s - loss: 0.2442 - accuracy: 0.9134 - val_loss: 0.5377 - val_accuracy: 0.6892\n",
      "Epoch 43/85\n",
      "14/14 - 1s - loss: 0.2615 - accuracy: 0.9103 - val_loss: 0.4877 - val_accuracy: 0.7162\n",
      "Epoch 44/85\n",
      "14/14 - 1s - loss: 0.2476 - accuracy: 0.9149 - val_loss: 0.4230 - val_accuracy: 0.7703\n",
      "Epoch 45/85\n",
      "14/14 - 1s - loss: 0.2405 - accuracy: 0.9225 - val_loss: 0.3718 - val_accuracy: 0.8243\n",
      "Epoch 46/85\n",
      "14/14 - 2s - loss: 0.2489 - accuracy: 0.9119 - val_loss: 0.3328 - val_accuracy: 0.8649\n",
      "Epoch 47/85\n",
      "14/14 - 1s - loss: 0.2679 - accuracy: 0.8997 - val_loss: 0.3006 - val_accuracy: 0.8919\n",
      "Epoch 48/85\n",
      "14/14 - 1s - loss: 0.2310 - accuracy: 0.9240 - val_loss: 0.2677 - val_accuracy: 0.9189\n",
      "Epoch 49/85\n",
      "14/14 - 2s - loss: 0.2340 - accuracy: 0.9271 - val_loss: 0.2531 - val_accuracy: 0.9189\n",
      "Epoch 50/85\n",
      "14/14 - 1s - loss: 0.2425 - accuracy: 0.9225 - val_loss: 0.2409 - val_accuracy: 0.9324\n",
      "Epoch 51/85\n",
      "14/14 - 1s - loss: 0.2355 - accuracy: 0.9225 - val_loss: 0.2343 - val_accuracy: 0.9459\n",
      "Epoch 52/85\n",
      "14/14 - 1s - loss: 0.2241 - accuracy: 0.9301 - val_loss: 0.2187 - val_accuracy: 0.9595\n",
      "Epoch 53/85\n",
      "14/14 - 1s - loss: 0.2241 - accuracy: 0.9240 - val_loss: 0.2087 - val_accuracy: 0.9595\n",
      "Epoch 54/85\n",
      "14/14 - 1s - loss: 0.2216 - accuracy: 0.9255 - val_loss: 0.2107 - val_accuracy: 0.9595\n",
      "Epoch 55/85\n",
      "14/14 - 2s - loss: 0.2464 - accuracy: 0.9179 - val_loss: 0.2134 - val_accuracy: 0.9459\n",
      "Epoch 56/85\n",
      "14/14 - 1s - loss: 0.2375 - accuracy: 0.9271 - val_loss: 0.2096 - val_accuracy: 0.9595\n",
      "Epoch 57/85\n",
      "14/14 - 1s - loss: 0.2540 - accuracy: 0.9164 - val_loss: 0.2090 - val_accuracy: 0.9459\n",
      "Epoch 58/85\n",
      "14/14 - 1s - loss: 0.2196 - accuracy: 0.9316 - val_loss: 0.2073 - val_accuracy: 0.9595\n",
      "Epoch 59/85\n",
      "14/14 - 1s - loss: 0.2392 - accuracy: 0.9195 - val_loss: 0.2093 - val_accuracy: 0.9459\n",
      "Epoch 60/85\n",
      "14/14 - 1s - loss: 0.2247 - accuracy: 0.9210 - val_loss: 0.2147 - val_accuracy: 0.9054\n",
      "Epoch 61/85\n",
      "14/14 - 1s - loss: 0.2180 - accuracy: 0.9255 - val_loss: 0.2185 - val_accuracy: 0.9054\n",
      "Epoch 62/85\n",
      "14/14 - 1s - loss: 0.2206 - accuracy: 0.9210 - val_loss: 0.2215 - val_accuracy: 0.9054\n",
      "Epoch 63/85\n",
      "14/14 - 1s - loss: 0.2034 - accuracy: 0.9377 - val_loss: 0.2236 - val_accuracy: 0.9054\n",
      "Epoch 64/85\n",
      "14/14 - 1s - loss: 0.2123 - accuracy: 0.9331 - val_loss: 0.2267 - val_accuracy: 0.9054\n",
      "Epoch 65/85\n",
      "14/14 - 1s - loss: 0.2182 - accuracy: 0.9255 - val_loss: 0.2299 - val_accuracy: 0.9054\n",
      "Epoch 66/85\n",
      "14/14 - 1s - loss: 0.2129 - accuracy: 0.9331 - val_loss: 0.2290 - val_accuracy: 0.9054\n",
      "Epoch 67/85\n",
      "14/14 - 1s - loss: 0.2439 - accuracy: 0.9225 - val_loss: 0.2258 - val_accuracy: 0.9054\n",
      "Epoch 68/85\n",
      "14/14 - 2s - loss: 0.2302 - accuracy: 0.9271 - val_loss: 0.2280 - val_accuracy: 0.9054\n",
      "Epoch 69/85\n",
      "14/14 - 1s - loss: 0.2016 - accuracy: 0.9362 - val_loss: 0.2310 - val_accuracy: 0.9054\n",
      "Epoch 70/85\n",
      "14/14 - 1s - loss: 0.2159 - accuracy: 0.9286 - val_loss: 0.2310 - val_accuracy: 0.9054\n",
      "Epoch 71/85\n",
      "14/14 - 1s - loss: 0.2076 - accuracy: 0.9362 - val_loss: 0.2325 - val_accuracy: 0.9054\n",
      "Epoch 72/85\n",
      "14/14 - 1s - loss: 0.2077 - accuracy: 0.9331 - val_loss: 0.2355 - val_accuracy: 0.9054\n",
      "Epoch 73/85\n",
      "14/14 - 1s - loss: 0.2113 - accuracy: 0.9316 - val_loss: 0.2337 - val_accuracy: 0.9054\n",
      "Epoch 74/85\n",
      "14/14 - 1s - loss: 0.1930 - accuracy: 0.9362 - val_loss: 0.2368 - val_accuracy: 0.9054\n",
      "Epoch 75/85\n",
      "14/14 - 1s - loss: 0.1876 - accuracy: 0.9377 - val_loss: 0.2376 - val_accuracy: 0.9054\n",
      "Epoch 76/85\n",
      "14/14 - 1s - loss: 0.1793 - accuracy: 0.9438 - val_loss: 0.2371 - val_accuracy: 0.9054\n",
      "Epoch 77/85\n",
      "14/14 - 1s - loss: 0.1915 - accuracy: 0.9392 - val_loss: 0.2364 - val_accuracy: 0.9054\n",
      "Epoch 78/85\n",
      "14/14 - 1s - loss: 0.2025 - accuracy: 0.9362 - val_loss: 0.2303 - val_accuracy: 0.9054\n",
      "Epoch 79/85\n",
      "14/14 - 1s - loss: 0.1975 - accuracy: 0.9347 - val_loss: 0.2265 - val_accuracy: 0.9054\n",
      "Epoch 80/85\n",
      "14/14 - 1s - loss: 0.1917 - accuracy: 0.9347 - val_loss: 0.2283 - val_accuracy: 0.9054\n",
      "Epoch 81/85\n",
      "14/14 - 1s - loss: 0.1939 - accuracy: 0.9362 - val_loss: 0.2275 - val_accuracy: 0.9054\n",
      "Epoch 82/85\n",
      "14/14 - 2s - loss: 0.1717 - accuracy: 0.9438 - val_loss: 0.2302 - val_accuracy: 0.9054\n",
      "Epoch 83/85\n",
      "14/14 - 1s - loss: 0.1883 - accuracy: 0.9392 - val_loss: 0.2250 - val_accuracy: 0.9054\n",
      "Epoch 84/85\n",
      "14/14 - 1s - loss: 0.1839 - accuracy: 0.9438 - val_loss: 0.2238 - val_accuracy: 0.9054\n",
      "Epoch 85/85\n",
      "14/14 - 1s - loss: 0.1801 - accuracy: 0.9362 - val_loss: 0.2260 - val_accuracy: 0.9054\n"
     ]
    },
    {
     "name": "stderr",
     "output_type": "stream",
     "text": [
      "/opt/conda/lib/python3.7/site-packages/keras/utils/generic_utils.py:497: CustomMaskWarning: Custom mask layers require a config and must override get_config. When loading, the custom mask layer must be passed to the custom_objects argument.\n",
      "  category=CustomMaskWarning)\n"
     ]
    }
   ],
   "source": [
    "x_train,y_train = prepare_training_data(use_dataset_Res_model)\n",
    "num_classes = 2\n",
    "input_shape = (128, 128, 3)\n",
    "resMod = ResNet50(include_top=True, weights=None, input_shape=input_shape, classes=num_classes)\n",
    "resMod.compile(loss='binary_crossentropy',optimizer=Adadelta(),metrics=['accuracy'])\n",
    "rec = resMod.fit(x_train, y_train, epochs=85, batch_size=50,verbose=2,validation_split=0.1)\n",
    "resMod.save('ResNet50.h5')"
   ]
  },
  {
   "cell_type": "markdown",
   "id": "fd085b17",
   "metadata": {
    "papermill": {
     "duration": 0.240461,
     "end_time": "2022-05-31T09:03:32.705690",
     "exception": false,
     "start_time": "2022-05-31T09:03:32.465229",
     "status": "completed"
    },
    "tags": []
   },
   "source": [
    "## 8.4 Output the final prediction result"
   ]
  },
  {
   "cell_type": "code",
   "execution_count": 33,
   "id": "f55d7cde",
   "metadata": {
    "execution": {
     "iopub.execute_input": "2022-05-31T09:03:33.186699Z",
     "iopub.status.busy": "2022-05-31T09:03:33.186333Z",
     "iopub.status.idle": "2022-05-31T09:03:38.540378Z",
     "shell.execute_reply": "2022-05-31T09:03:38.539506Z"
    },
    "papermill": {
     "duration": 5.599752,
     "end_time": "2022-05-31T09:03:38.542522",
     "exception": false,
     "start_time": "2022-05-31T09:03:32.942770",
     "status": "completed"
    },
    "tags": []
   },
   "outputs": [],
   "source": [
    "x_train  = np.load('../input/data-preprocess-2/x_train_fig.npy')\n",
    "x_test   = np.load('../input/data-preprocess-2/x_test_fig.npy')\n",
    "\n",
    "x_train_pred = resMod.predict(x_train)\n",
    "x_test_pred  = resMod.predict(x_test)\n",
    "\n",
    "np.save('x_train_img_pred.npy',x_train_pred)\n",
    "np.save('x_test_img_pred.npy',x_test_pred)"
   ]
  },
  {
   "cell_type": "markdown",
   "id": "a8f21271",
   "metadata": {
    "papermill": {
     "duration": 0.365662,
     "end_time": "2022-05-31T09:03:39.314618",
     "exception": false,
     "start_time": "2022-05-31T09:03:38.948956",
     "status": "completed"
    },
    "tags": []
   },
   "source": [
    "# 9. XGBoost+CV"
   ]
  },
  {
   "cell_type": "markdown",
   "id": "0891a6e1",
   "metadata": {
    "papermill": {
     "duration": 0.237925,
     "end_time": "2022-05-31T09:03:39.790994",
     "exception": false,
     "start_time": "2022-05-31T09:03:39.553069",
     "status": "completed"
    },
    "tags": []
   },
   "source": [
    "## 9.1 import packages needed in this section"
   ]
  },
  {
   "cell_type": "code",
   "execution_count": 34,
   "id": "026b0a62",
   "metadata": {
    "execution": {
     "iopub.execute_input": "2022-05-31T09:03:40.268584Z",
     "iopub.status.busy": "2022-05-31T09:03:40.268228Z",
     "iopub.status.idle": "2022-05-31T09:03:41.077960Z",
     "shell.execute_reply": "2022-05-31T09:03:41.077114Z"
    },
    "papermill": {
     "duration": 1.052332,
     "end_time": "2022-05-31T09:03:41.080301",
     "exception": false,
     "start_time": "2022-05-31T09:03:40.027969",
     "status": "completed"
    },
    "tags": []
   },
   "outputs": [],
   "source": [
    "import numpy as np\n",
    "import pandas as pd \n",
    "import matplotlib.pyplot as plt\n",
    "from sklearn.model_selection import train_test_split\n",
    "from sklearn.tree import DecisionTreeClassifier  ## decision tree\n",
    "from sklearn.ensemble import RandomForestClassifier\n",
    "from sklearn.ensemble import AdaBoostClassifier\n",
    "from xgboost import XGBClassifier\n",
    "import xgboost\n",
    "import random"
   ]
  },
  {
   "cell_type": "markdown",
   "id": "1e54ef28",
   "metadata": {
    "papermill": {
     "duration": 0.238023,
     "end_time": "2022-05-31T09:03:41.563354",
     "exception": false,
     "start_time": "2022-05-31T09:03:41.325331",
     "status": "completed"
    },
    "tags": []
   },
   "source": [
    "## 9.2 Define the data generator function\n",
    "Here, we use the data from all the process above, including the image classifiction(CNN,ResNet50) and the geometric features\n",
    "\n",
    "Since the number of type 1 neurons are much more than type 0 (ratio 4:1),\n",
    "we need to balance the number of two types to do model train.<br>\n",
    "After trying different weights, we find that type1/0 with ratio 1.5:1 can get a better training."
   ]
  },
  {
   "cell_type": "code",
   "execution_count": 35,
   "id": "45065f58",
   "metadata": {
    "execution": {
     "iopub.execute_input": "2022-05-31T09:03:42.084393Z",
     "iopub.status.busy": "2022-05-31T09:03:42.084026Z",
     "iopub.status.idle": "2022-05-31T09:03:42.098093Z",
     "shell.execute_reply": "2022-05-31T09:03:42.097331Z"
    },
    "papermill": {
     "duration": 0.254792,
     "end_time": "2022-05-31T09:03:42.099752",
     "exception": false,
     "start_time": "2022-05-31T09:03:41.844960",
     "status": "completed"
    },
    "tags": []
   },
   "outputs": [],
   "source": [
    "def prepare_data(use_dataset_XGB_model):\n",
    "    if use_dataset_XGB_model:\n",
    "        x_train = np.load('../input/data-preprocess-2/x_train.npy')\n",
    "        y_train = np.load('../input/data-preprocess-2/y_train.npy')\n",
    "        x_test  = np.load('../input/data-preprocess-2/x_test.npy')\n",
    "        \n",
    "        x_train_img = np.load('../input/data-preprocess-2/train_prediciton_origianl.npy')\n",
    "        x_test_img  = np.load('../input/data-preprocess-2/test_prediciton_origianl.npy')\n",
    "\n",
    "        x_train_img1 = np.load('../input/data-preprocess-2/x_train_img_pred.npy')\n",
    "        x_test_img1  = np.load('../input/data-preprocess-2/x_test_img_pred.npy')\n",
    "    else:\n",
    "        x_train = np.load('./x_train.npy')\n",
    "        y_train = np.load('./y_train.npy')\n",
    "        x_test  = np.load('./x_test.npy')\n",
    "\n",
    "        x_train_img = np.load('./train_prediciton_origianl.npy')\n",
    "        x_test_img  = np.load('./test_prediciton_origianl.npy')\n",
    "\n",
    "        x_train_img1 = np.load('./x_train_img_pred.npy')\n",
    "        x_test_img1  = np.load('./x_test_img_pred.npy')\n",
    "\n",
    "    x_train_img = x_train_img[:,np.newaxis]\n",
    "    x_test_img  = x_test_img[:,np.newaxis]\n",
    "\n",
    "    x_train_img1 = x_train_img1[:,0:1]\n",
    "    x_test_img1  = x_test_img1[:,0:1]\n",
    "\n",
    "    x_train = np.hstack((x_train, x_train_img, x_train_img1))\n",
    "    x_test  = np.hstack((x_test, x_test_img, x_test_img1))\n",
    "\n",
    "    type0_data = x_train[y_train == 0]\n",
    "    type1_data = x_train[y_train == 1]\n",
    "    type0_y    = y_train[y_train == 0]\n",
    "    type1_y    = y_train[y_train == 1]\n",
    "\n",
    "    random.seed(7)\n",
    "    select = random.sample(range(1207),int(293*1.5))\n",
    "\n",
    "    select_list = np.zeros(len(type1_data)).astype(bool)\n",
    "    select_list[select] = True\n",
    "\n",
    "    #type1_data_n = type1_data[np.logical_not(select_list)]\n",
    "    #type1_y_n    = type1_y[np.logical_not(select_list)]\n",
    "\n",
    "    type1_data = type1_data[select]\n",
    "    type1_y    = type1_y[select]\n",
    "\n",
    "    x_train_pre = np.vstack((type0_data,type1_data))\n",
    "    y_train_pre = np.vstack((type0_y[:,np.newaxis],type1_y[:,np.newaxis]))\n",
    "\n",
    "    train_data_pre = np.hstack((x_train_pre,y_train_pre))\n",
    "    np.random.seed(3)\n",
    "    np.random.shuffle(train_data_pre)\n",
    "\n",
    "    x_train1 = train_data_pre[:,:-1]\n",
    "    y_train1 = train_data_pre[:,-1]\n",
    "\n",
    "    y_train1  = y_train1.astype(int) \n",
    "    \n",
    "    X_train, X_valid, Y_train, Y_valid = train_test_split(x_train1, y_train1, test_size =0.4, random_state=0)\n",
    "    \n",
    "    return X_train, X_valid, Y_train, Y_valid, x_test"
   ]
  },
  {
   "cell_type": "markdown",
   "id": "8577e6a4",
   "metadata": {
    "papermill": {
     "duration": 0.236777,
     "end_time": "2022-05-31T09:03:42.580235",
     "exception": false,
     "start_time": "2022-05-31T09:03:42.343458",
     "status": "completed"
    },
    "tags": []
   },
   "source": [
    "## 9.3 Training the Xgboost model"
   ]
  },
  {
   "cell_type": "code",
   "execution_count": 36,
   "id": "8c4c5f2b",
   "metadata": {
    "execution": {
     "iopub.execute_input": "2022-05-31T09:03:43.063529Z",
     "iopub.status.busy": "2022-05-31T09:03:43.063177Z",
     "iopub.status.idle": "2022-05-31T09:03:49.087054Z",
     "shell.execute_reply": "2022-05-31T09:03:49.085931Z"
    },
    "papermill": {
     "duration": 6.267935,
     "end_time": "2022-05-31T09:03:49.089460",
     "exception": false,
     "start_time": "2022-05-31T09:03:42.821525",
     "status": "completed"
    },
    "tags": []
   },
   "outputs": [
    {
     "name": "stdout",
     "output_type": "stream",
     "text": [
      "[0]\ttrain-logloss:0.68407\tvalid-logloss:0.68409\n"
     ]
    },
    {
     "name": "stderr",
     "output_type": "stream",
     "text": [
      "/opt/conda/lib/python3.7/site-packages/xgboost/core.py:528: FutureWarning: Pass `evals` as keyword args.  Passing these as positional arguments will be considered as error in future releases.\n",
      "  format(\", \".join(args_msg)), FutureWarning\n"
     ]
    },
    {
     "name": "stdout",
     "output_type": "stream",
     "text": [
      "[100]\ttrain-logloss:0.23140\tvalid-logloss:0.23951\n",
      "[200]\ttrain-logloss:0.09828\tvalid-logloss:0.11608\n",
      "[300]\ttrain-logloss:0.04957\tvalid-logloss:0.07269\n",
      "[400]\ttrain-logloss:0.02959\tvalid-logloss:0.05501\n",
      "[500]\ttrain-logloss:0.02050\tvalid-logloss:0.04722\n",
      "[600]\ttrain-logloss:0.01546\tvalid-logloss:0.04366\n",
      "[700]\ttrain-logloss:0.01276\tvalid-logloss:0.04116\n",
      "[800]\ttrain-logloss:0.01088\tvalid-logloss:0.03927\n",
      "[900]\ttrain-logloss:0.00979\tvalid-logloss:0.03858\n",
      "[1000]\ttrain-logloss:0.00910\tvalid-logloss:0.03779\n",
      "[1100]\ttrain-logloss:0.00847\tvalid-logloss:0.03713\n",
      "[1200]\ttrain-logloss:0.00801\tvalid-logloss:0.03656\n",
      "[1300]\ttrain-logloss:0.00770\tvalid-logloss:0.03617\n",
      "[1400]\ttrain-logloss:0.00743\tvalid-logloss:0.03587\n",
      "[1500]\ttrain-logloss:0.00718\tvalid-logloss:0.03554\n",
      "[1600]\ttrain-logloss:0.00695\tvalid-logloss:0.03525\n",
      "[1700]\ttrain-logloss:0.00675\tvalid-logloss:0.03494\n",
      "[1800]\ttrain-logloss:0.00655\tvalid-logloss:0.03468\n",
      "[1900]\ttrain-logloss:0.00637\tvalid-logloss:0.03447\n",
      "[1999]\ttrain-logloss:0.00621\tvalid-logloss:0.03428\n"
     ]
    }
   ],
   "source": [
    "X_train, X_valid, Y_train, Y_valid, x_test = prepare_data(use_dataset_XGB_model)\n",
    "params = {}\n",
    "params['objective'] = 'binary:logistic'\n",
    "params['eval_metric'] = 'logloss'\n",
    "params['eta'] = 0.04\n",
    "params['max_depth'] = 3\n",
    "params['learning_rate'] = 0.01\n",
    "\n",
    "d_train = xgboost.DMatrix(X_train, label=Y_train)\n",
    "d_valid = xgboost.DMatrix(X_valid, label=Y_valid)\n",
    "\n",
    "watchlist = [(d_train, 'train'), (d_valid, 'valid')]\n",
    "\n",
    "bst = xgboost.train(params, d_train, 2000, watchlist, early_stopping_rounds=20, verbose_eval=100)\n",
    "bst.save_model('bst.json')"
   ]
  },
  {
   "cell_type": "markdown",
   "id": "bcd11633",
   "metadata": {
    "papermill": {
     "duration": 0.26031,
     "end_time": "2022-05-31T09:03:49.599108",
     "exception": false,
     "start_time": "2022-05-31T09:03:49.338798",
     "status": "completed"
    },
    "tags": []
   },
   "source": [
    "## 9.4 Output the final prediction result"
   ]
  },
  {
   "cell_type": "code",
   "execution_count": 37,
   "id": "cf334478",
   "metadata": {
    "execution": {
     "iopub.execute_input": "2022-05-31T09:03:50.382095Z",
     "iopub.status.busy": "2022-05-31T09:03:50.381746Z",
     "iopub.status.idle": "2022-05-31T09:03:50.406379Z",
     "shell.execute_reply": "2022-05-31T09:03:50.405697Z"
    },
    "papermill": {
     "duration": 0.397036,
     "end_time": "2022-05-31T09:03:50.408377",
     "exception": false,
     "start_time": "2022-05-31T09:03:50.011341",
     "status": "completed"
    },
    "tags": []
   },
   "outputs": [],
   "source": [
    "df = pd.read_csv(\"../input/phys591000-2022-final-project-ii/fc_prediction_template.csv\")\n",
    "files = np.array(df['id'])\n",
    "\n",
    "output = bst.predict(xgboost.DMatrix(x_test))\n",
    "\n",
    "df = pd.DataFrame()\n",
    "df['id'] = pd.DataFrame(files)\n",
    "df['prediction'] = pd.DataFrame(output)\n",
    "df.to_csv('submission.csv', index=0)"
   ]
  }
 ],
 "metadata": {
  "kernelspec": {
   "display_name": "Python 3",
   "language": "python",
   "name": "python3"
  },
  "language_info": {
   "codemirror_mode": {
    "name": "ipython",
    "version": 3
   },
   "file_extension": ".py",
   "mimetype": "text/x-python",
   "name": "python",
   "nbconvert_exporter": "python",
   "pygments_lexer": "ipython3",
   "version": "3.7.12"
  },
  "papermill": {
   "default_parameters": {},
   "duration": 971.10465,
   "end_time": "2022-05-31T09:03:54.141982",
   "environment_variables": {},
   "exception": null,
   "input_path": "__notebook__.ipynb",
   "output_path": "__notebook__.ipynb",
   "parameters": {},
   "start_time": "2022-05-31T08:47:43.037332",
   "version": "2.3.4"
  }
 },
 "nbformat": 4,
 "nbformat_minor": 5
}
