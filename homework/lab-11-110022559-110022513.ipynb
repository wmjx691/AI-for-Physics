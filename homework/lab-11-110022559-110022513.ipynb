{
 "cells": [
  {
   "cell_type": "markdown",
   "id": "656f06eb",
   "metadata": {
    "papermill": {
     "duration": 0.020955,
     "end_time": "2022-04-27T13:46:17.837665",
     "exception": false,
     "start_time": "2022-04-27T13:46:17.816710",
     "status": "completed"
    },
    "tags": []
   },
   "source": [
    "##### PHYS591000 in 2022\n",
    "# Lab 11\n",
    "---\n",
    "## Introduction \n",
    "In lab 11, we will practice RNN.  \n",
    "* Build a Recurrent Neural Network(RNN)\n",
    "* Learn LTSM structure\n",
    "\n",
    "> **Useful Reference**\n",
    "> 1. [Theory of RNN and LSTM](https://brohrer.mcknote.com/zh-Hant/how_machine_learning_works/how_rnns_lstm_work.html)\n",
    "> 2. [RNN-LSTM Introduction](https://ithelp.ithome.com.tw/articles/10223055)\n",
    "> 3. [Understanding LSTM -- a tutorial into Long Short-Term Memory Recurrent Neural Networks](https://arxiv.org/abs/1909.09586)\n",
    "> 4. [Long Short-term Memory](https://www.researchgate.net/publication/13853244_Long_Short-term_Memory)\n",
    "\n",
    "---\n",
    "## Data Introduction  \n",
    "[2d_ising model](https://en.wikipedia.org/wiki/Ising_model)  \n",
    "* x_data : spin configuration (100 ensembles for each temperature)\n",
    "* y_data : one-hot labels (0: paramagnetism, 1:ferromagnetic). \n",
    "* Temperature : Temperature for spin configuration. T_c ~ 2.38 corresponding to the maximum point of magnetic susceptibility.\n",
    "---"
   ]
  },
  {
   "cell_type": "code",
   "execution_count": 1,
   "id": "efc00469",
   "metadata": {
    "execution": {
     "iopub.execute_input": "2022-04-27T13:46:17.889827Z",
     "iopub.status.busy": "2022-04-27T13:46:17.889089Z",
     "iopub.status.idle": "2022-04-27T13:46:17.895202Z",
     "shell.execute_reply": "2022-04-27T13:46:17.895646Z",
     "shell.execute_reply.started": "2022-04-27T06:07:37.799523Z"
    },
    "papermill": {
     "duration": 0.03671,
     "end_time": "2022-04-27T13:46:17.895940",
     "exception": false,
     "start_time": "2022-04-27T13:46:17.859230",
     "status": "completed"
    },
    "tags": []
   },
   "outputs": [
    {
     "name": "stdout",
     "output_type": "stream",
     "text": [
      "/kaggle/input/phys591000-2022-week11/2d_Ising.pickle\n",
      "/kaggle/input/phys591000-2022-week11/test_data.npz\n",
      "/kaggle/input/phys591000-2022-week11/c2d_yso.pickle\n"
     ]
    }
   ],
   "source": [
    "# This Python 3 environment comes with many helpful analytics libraries installed\n",
    "# It is defined by the kaggle/python Docker image: https://github.com/kaggle/docker-python\n",
    "# For example, here's several helpful packages to load\n",
    "\n",
    "import numpy as np # linear algebra\n",
    "import pandas as pd # data processing, CSV file I/O (e.g. pd.read_csv)\n",
    "\n",
    "# Input data files are available in the read-only \"../input/\" directory\n",
    "# For example, running this (by clicking run or pressing Shift+Enter) will list all files under the input directory\n",
    "\n",
    "import os\n",
    "for dirname, _, filenames in os.walk('/kaggle/input'):\n",
    "    for filename in filenames:\n",
    "        print(os.path.join(dirname, filename))\n",
    "\n",
    "# You can write up to 20GB to the current directory (/kaggle/working/) that gets preserved as output when you create a version using \"Save & Run All\" \n",
    "# You can also write temporary files to /kaggle/temp/, but they won't be saved outside of the current session"
   ]
  },
  {
   "cell_type": "markdown",
   "id": "02bc4842",
   "metadata": {
    "papermill": {
     "duration": 0.019799,
     "end_time": "2022-04-27T13:46:17.935766",
     "exception": false,
     "start_time": "2022-04-27T13:46:17.915967",
     "status": "completed"
    },
    "tags": []
   },
   "source": [
    "## Lab 11\n",
    "---"
   ]
  },
  {
   "cell_type": "markdown",
   "id": "47d00bfe",
   "metadata": {
    "papermill": {
     "duration": 0.019301,
     "end_time": "2022-04-27T13:46:17.974744",
     "exception": false,
     "start_time": "2022-04-27T13:46:17.955443",
     "status": "completed"
    },
    "tags": []
   },
   "source": [
    "### 1.0 Enviroment setting \n",
    "\n",
    "**Please just run this cell to avoid the problem in model training.**"
   ]
  },
  {
   "cell_type": "code",
   "execution_count": 2,
   "id": "010dd832",
   "metadata": {
    "execution": {
     "iopub.execute_input": "2022-04-27T13:46:18.020263Z",
     "iopub.status.busy": "2022-04-27T13:46:18.019704Z",
     "iopub.status.idle": "2022-04-27T13:46:24.379561Z",
     "shell.execute_reply": "2022-04-27T13:46:24.380075Z",
     "shell.execute_reply.started": "2022-04-27T06:07:37.816698Z"
    },
    "papermill": {
     "duration": 6.384873,
     "end_time": "2022-04-27T13:46:24.380238",
     "exception": false,
     "start_time": "2022-04-27T13:46:17.995365",
     "status": "completed"
    },
    "tags": []
   },
   "outputs": [
    {
     "name": "stderr",
     "output_type": "stream",
     "text": [
      "2022-04-27 13:46:22.370084: I tensorflow/core/platform/cpu_feature_guard.cc:142] This TensorFlow binary is optimized with oneAPI Deep Neural Network Library (oneDNN) to use the following CPU instructions in performance-critical operations:  AVX2 AVX512F FMA\n",
      "To enable them in other operations, rebuild TensorFlow with the appropriate compiler flags.\n",
      "2022-04-27 13:46:22.433553: I tensorflow/stream_executor/cuda/cuda_gpu_executor.cc:937] successful NUMA node read from SysFS had negative value (-1), but there must be at least one NUMA node, so returning NUMA node zero\n",
      "2022-04-27 13:46:22.541195: I tensorflow/stream_executor/cuda/cuda_gpu_executor.cc:937] successful NUMA node read from SysFS had negative value (-1), but there must be at least one NUMA node, so returning NUMA node zero\n",
      "2022-04-27 13:46:22.542509: I tensorflow/stream_executor/cuda/cuda_gpu_executor.cc:937] successful NUMA node read from SysFS had negative value (-1), but there must be at least one NUMA node, so returning NUMA node zero\n",
      "2022-04-27 13:46:24.369291: I tensorflow/stream_executor/cuda/cuda_gpu_executor.cc:937] successful NUMA node read from SysFS had negative value (-1), but there must be at least one NUMA node, so returning NUMA node zero\n",
      "2022-04-27 13:46:24.370531: I tensorflow/stream_executor/cuda/cuda_gpu_executor.cc:937] successful NUMA node read from SysFS had negative value (-1), but there must be at least one NUMA node, so returning NUMA node zero\n",
      "2022-04-27 13:46:24.371758: I tensorflow/stream_executor/cuda/cuda_gpu_executor.cc:937] successful NUMA node read from SysFS had negative value (-1), but there must be at least one NUMA node, so returning NUMA node zero\n",
      "2022-04-27 13:46:24.372805: I tensorflow/core/common_runtime/gpu/gpu_device.cc:1510] Created device /job:localhost/replica:0/task:0/device:GPU:0 with 15403 MB memory:  -> device: 0, name: Tesla P100-PCIE-16GB, pci bus id: 0000:00:04.0, compute capability: 6.0\n"
     ]
    }
   ],
   "source": [
    "##############################################################################\n",
    "# Code for 1.0\n",
    "##############################################################################\n",
    "# import\n",
    "from tensorflow.compat.v1 import ConfigProto\n",
    "from tensorflow.compat.v1 import InteractiveSession\n",
    "\n",
    "config = ConfigProto()\n",
    "config.gpu_options.allow_growth = True\n",
    "session = InteractiveSession(config=config)\n",
    "\n",
    "##############################################################################"
   ]
  },
  {
   "cell_type": "markdown",
   "id": "9bea7fc0",
   "metadata": {
    "papermill": {
     "duration": 0.019877,
     "end_time": "2022-04-27T13:46:24.420339",
     "exception": false,
     "start_time": "2022-04-27T13:46:24.400462",
     "status": "completed"
    },
    "tags": []
   },
   "source": [
    "### 1.1 Load Data\n",
    "* Load the 2d_ising dataset.  \n",
    "    * Print out the keys of dataset.  \n",
    "    * Pick up `x_data` and `y_data` and `T`.  \n",
    "    * Print out the shape of `x_data` and `y_data` and `T`.  "
   ]
  },
  {
   "cell_type": "code",
   "execution_count": 3,
   "id": "89081a59",
   "metadata": {
    "execution": {
     "iopub.execute_input": "2022-04-27T13:46:24.466195Z",
     "iopub.status.busy": "2022-04-27T13:46:24.465655Z",
     "iopub.status.idle": "2022-04-27T13:46:25.101456Z",
     "shell.execute_reply": "2022-04-27T13:46:25.102272Z",
     "shell.execute_reply.started": "2022-04-27T06:07:37.833138Z"
    },
    "papermill": {
     "duration": 0.662125,
     "end_time": "2022-04-27T13:46:25.102476",
     "exception": false,
     "start_time": "2022-04-27T13:46:24.440351",
     "status": "completed"
    },
    "tags": []
   },
   "outputs": [
    {
     "name": "stdout",
     "output_type": "stream",
     "text": [
      "x_data shape is (1001, 100, 10, 10)\n",
      "y_data shape is (1001, 2)\n",
      "T shape is (1001,)\n"
     ]
    }
   ],
   "source": [
    "##############################################################################\n",
    "# Code for 1.1\n",
    "# \n",
    "##############################################################################\n",
    "# Please code in this cell\n",
    "\n",
    "# import packages\n",
    "import pickle\n",
    "import numpy as np\n",
    "\n",
    "with open('/kaggle/input/phys591000-2022-week11/2d_Ising.pickle', 'rb') as f:\n",
    "    data = pickle.load(f)\n",
    "\n",
    "x_data = data['x_data']\n",
    "y_data = data['y_data']\n",
    "T      = data['Temperature']\n",
    "\n",
    "print(f\"x_data shape is {x_data.shape}\")\n",
    "print(f\"y_data shape is {y_data.shape}\")\n",
    "print(f\"T shape is {T.shape}\")\n",
    "\n",
    "##############################################################################"
   ]
  },
  {
   "cell_type": "markdown",
   "id": "5f16da70",
   "metadata": {
    "papermill": {
     "duration": 0.020698,
     "end_time": "2022-04-27T13:46:25.144844",
     "exception": false,
     "start_time": "2022-04-27T13:46:25.124146",
     "status": "completed"
    },
    "tags": []
   },
   "source": [
    "### 1.2 Visulize the x_data of 2d_ising dataset  \n",
    "* There are 1001 data in dataset.  \n",
    "* Each one has 100 images that is 10x10 in x_data.  \n",
    "* Please plot 100 images in a figure.  \n",
    "\n",
    "**Only need to print index 0 and 1001 in x_data**  \n",
    "**There should be 2 figures, each has 100 images**  "
   ]
  },
  {
   "cell_type": "code",
   "execution_count": 4,
   "id": "c5936eba",
   "metadata": {
    "execution": {
     "iopub.execute_input": "2022-04-27T13:46:25.195702Z",
     "iopub.status.busy": "2022-04-27T13:46:25.194831Z",
     "iopub.status.idle": "2022-04-27T13:46:39.151663Z",
     "shell.execute_reply": "2022-04-27T13:46:39.152075Z",
     "shell.execute_reply.started": "2022-04-27T06:07:37.957663Z"
    },
    "papermill": {
     "duration": 13.986818,
     "end_time": "2022-04-27T13:46:39.152222",
     "exception": false,
     "start_time": "2022-04-27T13:46:25.165404",
     "status": "completed"
    },
    "tags": []
   },
   "outputs": [
    {
     "data": {
      "image/png": "[encoded data removed]",
      "text/plain": [
       "<Figure size 960x640 with 100 Axes>"
      ]
     },
     "metadata": {
      "needs_background": "light"
     },
     "output_type": "display_data"
    },
    {
     "data": {
      "image/png": "[encoded data removed]",
      "text/plain": [
       "<Figure size 960x640 with 100 Axes>"
      ]
     },
     "metadata": {
      "needs_background": "light"
     },
     "output_type": "display_data"
    }
   ],
   "source": [
    "##############################################################################\n",
    "# Code for 1.2\n",
    "# \n",
    "##############################################################################\n",
    "# Please code in this cell\n",
    "\n",
    "import matplotlib.pyplot as plt \n",
    "\n",
    "fig = plt.figure(figsize=(12,8), dpi=80)\n",
    "plt.suptitle('Visulize the x_data of 2d_ising dataset:0')\n",
    "for i in range(100):\n",
    "    plt.subplot(10,10,i+1)\n",
    "    plt.imshow(x_data[0,i,:,:])\n",
    "plt.show()\n",
    "\n",
    "fig = plt.figure(figsize=(12,8), dpi=80)\n",
    "plt.suptitle('Visulize the x_data of 2d_ising dataset:1001')\n",
    "for i in range(100):\n",
    "    plt.subplot(10,10,i+1)\n",
    "    plt.imshow(x_data[1000,i,:,:])\n",
    "plt.show()\n",
    "##############################################################################"
   ]
  },
  {
   "cell_type": "markdown",
   "id": "6b37c26c",
   "metadata": {
    "papermill": {
     "duration": 0.022087,
     "end_time": "2022-04-27T13:46:39.198152",
     "exception": false,
     "start_time": "2022-04-27T13:46:39.176065",
     "status": "completed"
    },
    "tags": []
   },
   "source": [
    "### 1.3 Preprocessing  \n",
    "* Please set training date.   \n",
    "    * 2d_ising  \n",
    "        * x_data -> X_train  \n",
    "        * T -> y_train  \n",
    "* Normalize the each data.  \n",
    "* Flatten the each data.  \n",
    "* Print out the data shpaes.  "
   ]
  },
  {
   "cell_type": "code",
   "execution_count": 5,
   "id": "e012806a",
   "metadata": {
    "execution": {
     "iopub.execute_input": "2022-04-27T13:46:39.245848Z",
     "iopub.status.busy": "2022-04-27T13:46:39.245032Z",
     "iopub.status.idle": "2022-04-27T13:46:39.733113Z",
     "shell.execute_reply": "2022-04-27T13:46:39.733727Z",
     "shell.execute_reply.started": "2022-04-27T06:07:50.876775Z"
    },
    "papermill": {
     "duration": 0.513599,
     "end_time": "2022-04-27T13:46:39.733926",
     "exception": false,
     "start_time": "2022-04-27T13:46:39.220327",
     "status": "completed"
    },
    "tags": []
   },
   "outputs": [
    {
     "name": "stdout",
     "output_type": "stream",
     "text": [
      "The shape of the X_train become (1001, 100, 100)\n",
      "The shape of the y_train still (1001,)\n"
     ]
    }
   ],
   "source": [
    "##############################################################################\n",
    "# Code for 1.3\n",
    "# \n",
    "##############################################################################\n",
    "# Please code in this cell\n",
    "\n",
    "X_train = x_data\n",
    "y_train = T\n",
    "\n",
    "for i in range(1001):\n",
    "    for j in range(100):\n",
    "        X_train[i][j] = (X_train[i][j]+1)/2    \n",
    "    y_train[i] = y_train[i]/y_train.max()\n",
    "    \n",
    "re_X_train = X_train.reshape(1001,100,100)\n",
    "\n",
    "print(f\"The shape of the X_train become {re_X_train.shape}\")\n",
    "print(f\"The shape of the y_train still {y_train.shape}\")\n",
    "##############################################################################"
   ]
  },
  {
   "cell_type": "markdown",
   "id": "2ca0c4b2",
   "metadata": {
    "papermill": {
     "duration": 0.022415,
     "end_time": "2022-04-27T13:46:39.780370",
     "exception": false,
     "start_time": "2022-04-27T13:46:39.757955",
     "status": "completed"
    },
    "tags": []
   },
   "source": [
    "### 1.4 Build the model\n",
    "Bulid a LSTM model  \n",
    "\n",
    "* Please create a RNN architecture as follow.  \n",
    "    * input_shape = (data shape[1], data shape[2]) -> \n",
    "        LSTM layer (filters=4, return_sequences=True) ->\n",
    "        Flatten ->    \n",
    "        Output Dense layer with 1 neuron \n",
    "\n",
    "* **linear** will be activation function for output layer.\n",
    "* `Adam` will be the optimizer and `mse` will be the loss function.\n",
    "* Please visualize or print your Architecture.  \n",
    "<!-- * Input the 2d_ising x training data.    -->"
   ]
  },
  {
   "cell_type": "code",
   "execution_count": 6,
   "id": "9ec2f6eb",
   "metadata": {
    "execution": {
     "iopub.execute_input": "2022-04-27T13:46:39.832514Z",
     "iopub.status.busy": "2022-04-27T13:46:39.831811Z",
     "iopub.status.idle": "2022-04-27T13:46:40.933249Z",
     "shell.execute_reply": "2022-04-27T13:46:40.933681Z",
     "shell.execute_reply.started": "2022-04-27T06:07:51.353048Z"
    },
    "papermill": {
     "duration": 1.130529,
     "end_time": "2022-04-27T13:46:40.933843",
     "exception": false,
     "start_time": "2022-04-27T13:46:39.803314",
     "status": "completed"
    },
    "tags": []
   },
   "outputs": [
    {
     "name": "stderr",
     "output_type": "stream",
     "text": [
      "2022-04-27 13:46:40.625186: I tensorflow/stream_executor/cuda/cuda_gpu_executor.cc:937] successful NUMA node read from SysFS had negative value (-1), but there must be at least one NUMA node, so returning NUMA node zero\n",
      "2022-04-27 13:46:40.626047: I tensorflow/stream_executor/cuda/cuda_gpu_executor.cc:937] successful NUMA node read from SysFS had negative value (-1), but there must be at least one NUMA node, so returning NUMA node zero\n",
      "2022-04-27 13:46:40.626679: I tensorflow/stream_executor/cuda/cuda_gpu_executor.cc:937] successful NUMA node read from SysFS had negative value (-1), but there must be at least one NUMA node, so returning NUMA node zero\n",
      "2022-04-27 13:46:40.627536: I tensorflow/stream_executor/cuda/cuda_gpu_executor.cc:937] successful NUMA node read from SysFS had negative value (-1), but there must be at least one NUMA node, so returning NUMA node zero\n",
      "2022-04-27 13:46:40.628197: I tensorflow/stream_executor/cuda/cuda_gpu_executor.cc:937] successful NUMA node read from SysFS had negative value (-1), but there must be at least one NUMA node, so returning NUMA node zero\n",
      "2022-04-27 13:46:40.628848: I tensorflow/stream_executor/cuda/cuda_gpu_executor.cc:937] successful NUMA node read from SysFS had negative value (-1), but there must be at least one NUMA node, so returning NUMA node zero\n",
      "2022-04-27 13:46:40.629515: I tensorflow/stream_executor/cuda/cuda_gpu_executor.cc:937] successful NUMA node read from SysFS had negative value (-1), but there must be at least one NUMA node, so returning NUMA node zero\n",
      "2022-04-27 13:46:40.630165: I tensorflow/stream_executor/cuda/cuda_gpu_executor.cc:937] successful NUMA node read from SysFS had negative value (-1), but there must be at least one NUMA node, so returning NUMA node zero\n",
      "2022-04-27 13:46:40.630772: I tensorflow/core/common_runtime/gpu/gpu_device.cc:1510] Created device /job:localhost/replica:0/task:0/device:GPU:0 with 15403 MB memory:  -> device: 0, name: Tesla P100-PCIE-16GB, pci bus id: 0000:00:04.0, compute capability: 6.0\n"
     ]
    },
    {
     "name": "stdout",
     "output_type": "stream",
     "text": [
      "Model: \"sequential\"\n",
      "_________________________________________________________________\n",
      "Layer (type)                 Output Shape              Param #   \n",
      "=================================================================\n",
      "lstm (LSTM)                  (None, 100, 4)            1680      \n",
      "_________________________________________________________________\n",
      "flatten (Flatten)            (None, 400)               0         \n",
      "_________________________________________________________________\n",
      "dense (Dense)                (None, 1)                 401       \n",
      "=================================================================\n",
      "Total params: 2,081\n",
      "Trainable params: 2,081\n",
      "Non-trainable params: 0\n",
      "_________________________________________________________________\n"
     ]
    }
   ],
   "source": [
    "##############################################################################\n",
    "# Code for 1.4\n",
    "# \n",
    "##############################################################################\n",
    "# Please code in this cell\n",
    "\n",
    "import tensorflow as tf\n",
    "import tensorflow.keras as keras\n",
    "from tensorflow.keras.models import Sequential,Model\n",
    "from tensorflow.keras.layers import *\n",
    "from tensorflow.keras.optimizers import Adam\n",
    "\n",
    "model = Sequential()       \n",
    "model.add(LSTM(4, return_sequences=True, input_shape = (re_X_train.shape[1], re_X_train.shape[2])))\n",
    "model.add(Flatten())                  \n",
    "model.add(Dense(1))          \n",
    "\n",
    "model.compile(optimizer = 'adam', loss = 'mse',metrics=['accuracy'])\n",
    "\n",
    "model.summary()\n",
    "##############################################################################"
   ]
  },
  {
   "cell_type": "markdown",
   "id": "ae532806",
   "metadata": {
    "papermill": {
     "duration": 0.02411,
     "end_time": "2022-04-27T13:46:40.981992",
     "exception": false,
     "start_time": "2022-04-27T13:46:40.957882",
     "status": "completed"
    },
    "tags": []
   },
   "source": [
    "### 1.5 Train the model by 2d_ising dataset  \n",
    "* Please set up the callback of `EarlyStopping`:  \n",
    "    * monitor=\"mse\"  \n",
    "    * patience=10  \n",
    "    * verbose=0  \n",
    "    * mode=\"auto\"  \n",
    "* Please train your RNN model with `batch_size=5` and `epochs=1000`.\n",
    "    * x = X_train, \n",
    "    * y = y_train,  \n",
    "    * validation_split=0.1  \n",
    "    \n",
    "    \n",
    "* Please save your model and name it to be `model_LSTM_2d_ising.h5`."
   ]
  },
  {
   "cell_type": "code",
   "execution_count": 7,
   "id": "f9fc7f1f",
   "metadata": {
    "execution": {
     "iopub.execute_input": "2022-04-27T13:46:41.036106Z",
     "iopub.status.busy": "2022-04-27T13:46:41.035347Z",
     "iopub.status.idle": "2022-04-27T13:59:23.131884Z",
     "shell.execute_reply": "2022-04-27T13:59:23.131359Z",
     "shell.execute_reply.started": "2022-04-27T06:07:51.573375Z"
    },
    "papermill": {
     "duration": 762.126617,
     "end_time": "2022-04-27T13:59:23.132032",
     "exception": false,
     "start_time": "2022-04-27T13:46:41.005415",
     "status": "completed"
    },
    "tags": []
   },
   "outputs": [
    {
     "name": "stderr",
     "output_type": "stream",
     "text": [
      "2022-04-27 13:46:41.155351: I tensorflow/compiler/mlir/mlir_graph_optimization_pass.cc:185] None of the MLIR Optimization Passes are enabled (registered 2)\n",
      "2022-04-27 13:46:43.545519: I tensorflow/stream_executor/cuda/cuda_dnn.cc:369] Loaded cuDNN version 8005\n"
     ]
    }
   ],
   "source": [
    "##############################################################################\n",
    "# Code for 1.5\n",
    "# \n",
    "##############################################################################\n",
    "# Please code in this cell\n",
    "\n",
    "callbacks = tf.keras.callbacks.EarlyStopping(\n",
    "                monitor='mse', patience=10, verbose=0, mode='auto')\n",
    "\n",
    "history = model.fit(re_X_train, y_train, epochs = 1000, batch_size = 5, validation_split=0.1, callbacks=callbacks, verbose=0)\n",
    "\n",
    "model.save(\"model_LSTM_2d_ising.h5\")\n",
    "\n",
    "##############################################################################"
   ]
  },
  {
   "cell_type": "markdown",
   "id": "cf6cf4f4",
   "metadata": {
    "papermill": {
     "duration": 0.02337,
     "end_time": "2022-04-27T13:59:23.179972",
     "exception": false,
     "start_time": "2022-04-27T13:59:23.156602",
     "status": "completed"
    },
    "tags": []
   },
   "source": [
    "### 1.6 Plot the learning curve of 2d_ising dataset  \n",
    "* Print out the keys of history.history.  \n",
    "* Plot the accuracy curve.  \n",
    "* Plot the loss curve.  "
   ]
  },
  {
   "cell_type": "code",
   "execution_count": 8,
   "id": "d54cf244",
   "metadata": {
    "execution": {
     "iopub.execute_input": "2022-04-27T13:59:23.246828Z",
     "iopub.status.busy": "2022-04-27T13:59:23.245868Z",
     "iopub.status.idle": "2022-04-27T13:59:23.635113Z",
     "shell.execute_reply": "2022-04-27T13:59:23.635638Z",
     "shell.execute_reply.started": "2022-04-27T06:20:14.548645Z"
    },
    "papermill": {
     "duration": 0.432003,
     "end_time": "2022-04-27T13:59:23.635783",
     "exception": false,
     "start_time": "2022-04-27T13:59:23.203780",
     "status": "completed"
    },
    "tags": []
   },
   "outputs": [
    {
     "data": {
      "image/png": "[encoded data removed]",
      "text/plain": [
       "<Figure size 480x480 with 1 Axes>"
      ]
     },
     "metadata": {
      "needs_background": "light"
     },
     "output_type": "display_data"
    },
    {
     "data": {
      "image/png": "[encoded data removed]",
      "text/plain": [
       "<Figure size 480x480 with 1 Axes>"
      ]
     },
     "metadata": {
      "needs_background": "light"
     },
     "output_type": "display_data"
    }
   ],
   "source": [
    "##############################################################################\n",
    "# Code for 1.6\n",
    "# \n",
    "##############################################################################\n",
    "# Please code in this cell\n",
    "\n",
    "fig = plt.figure(figsize=(6,6), dpi=80)\n",
    "plt.title(\"The learning curve (Accuracy) of RNN from problem 1.5\")\n",
    "plt.plot(history.history['accuracy'], lw=3, label='Train')\n",
    "plt.plot(history.history['val_accuracy'], lw=3, label='Validation')\n",
    "plt.xlabel('epoch')\n",
    "plt.ylabel('Accuracy')\n",
    "plt.legend()\n",
    "plt.show()\n",
    "\n",
    "\n",
    "fig = plt.figure(figsize=(6,6), dpi=80)\n",
    "plt.title(\"The learning curve (Loss) of RNN from problem 1.5\")\n",
    "plt.plot(history.history['loss'], lw=3, label='Train')\n",
    "plt.plot(history.history['val_loss'], lw=3, label='Validation')\n",
    "plt.xlabel('epoch')\n",
    "plt.ylabel('Loss')\n",
    "plt.legend()\n",
    "plt.show()\n",
    "\n",
    "##############################################################################"
   ]
  },
  {
   "cell_type": "markdown",
   "id": "83c88f84",
   "metadata": {
    "papermill": {
     "duration": 0.026222,
     "end_time": "2022-04-27T13:59:23.688307",
     "exception": false,
     "start_time": "2022-04-27T13:59:23.662085",
     "status": "completed"
    },
    "tags": []
   },
   "source": [
    "### 1.7\n",
    "Discussion for 1.6  \n",
    "\n",
    "1. According to the accuracy curve and loss curve, please try your best to commnet on the performance of 2d-ising in RNN.  \n",
    "2. Is this a regression problem or a classification problem? Which metric is better?  \n",
    "\n",
    "---\n",
    "Please write your discussion in this cell:     \n"
   ]
  },
  {
   "cell_type": "markdown",
   "id": "12f67b60",
   "metadata": {
    "papermill": {
     "duration": 0.025584,
     "end_time": "2022-04-27T13:59:23.739633",
     "exception": false,
     "start_time": "2022-04-27T13:59:23.714049",
     "status": "completed"
    },
    "tags": []
   },
   "source": [
    "1. RNN model will use the output which were generated by the past layer's to input the next layer, which become a recursive-like type to do model training.<br>\n",
    "In Ising model ,the temperatur is relative to the spin configraution. The different temperature will have very different configraution, although in same ensemable. So for RNN model use the past experience(output) will not improve the following layer accuracy.\n",
    "<br>\n",
    "2. We consider that this is a regression probelm. Beacuse the model will predict the linear temperature result, which is generated by the linear model.<br>\n",
    "We can also demonstrate linear by checking what loss function we use. 'mse'(mea square error), which is the error calculation method for linear function."
   ]
  },
  {
   "cell_type": "markdown",
   "id": "32f706ca",
   "metadata": {
    "papermill": {
     "duration": 0.025738,
     "end_time": "2022-04-27T13:59:23.791261",
     "exception": false,
     "start_time": "2022-04-27T13:59:23.765523",
     "status": "completed"
    },
    "tags": []
   },
   "source": [
    "---"
   ]
  },
  {
   "cell_type": "markdown",
   "id": "93f297ad",
   "metadata": {
    "papermill": {
     "duration": 0.026287,
     "end_time": "2022-04-27T13:59:23.843755",
     "exception": false,
     "start_time": "2022-04-27T13:59:23.817468",
     "status": "completed"
    },
    "tags": []
   },
   "source": [
    "## Competition Submission Guideline\n",
    "\n",
    "We will learn how to do competition submission in the following cell.\n"
   ]
  },
  {
   "cell_type": "markdown",
   "id": "d1099a1b",
   "metadata": {
    "papermill": {
     "duration": 0.025589,
     "end_time": "2022-04-27T13:59:23.896367",
     "exception": false,
     "start_time": "2022-04-27T13:59:23.870778",
     "status": "completed"
    },
    "tags": []
   },
   "source": [
    "### 1.8 Apply Trained Model on Test Dataset\n",
    "\n",
    "* 1 Please load **test_data.npz** as test data  \n",
    "    * test_data = np.load(\"./XXXXXX.npz\")[\"test_data\"]\n",
    "\n",
    "* 2 Apply your normalization method on this `test_data`\n",
    " \n",
    "* 3 Apply trained model on this `test_data`\n",
    "    * prediction = model.predict(XXXX)\n",
    "\n",
    "* 4 Rescale your prediction into real scale\n",
    "\n",
    "* 5 Please show your prediction data shape\n",
    "\n",
    "* 6 Print **TOP 10** predicted values\n"
   ]
  },
  {
   "cell_type": "code",
   "execution_count": 9,
   "id": "75c10f5a",
   "metadata": {
    "execution": {
     "iopub.execute_input": "2022-04-27T13:59:23.954876Z",
     "iopub.status.busy": "2022-04-27T13:59:23.952487Z",
     "iopub.status.idle": "2022-04-27T13:59:24.372600Z",
     "shell.execute_reply": "2022-04-27T13:59:24.371966Z",
     "shell.execute_reply.started": "2022-04-27T06:20:14.942295Z"
    },
    "papermill": {
     "duration": 0.450171,
     "end_time": "2022-04-27T13:59:24.372758",
     "exception": false,
     "start_time": "2022-04-27T13:59:23.922587",
     "status": "completed"
    },
    "tags": []
   },
   "outputs": [
    {
     "name": "stdout",
     "output_type": "stream",
     "text": [
      "The shape of the test_data is (100, 100, 100)\n",
      "The top 5 prediction is:\n",
      "[3.4598682 1.9136934 4.20279   1.4653331 3.9156294 1.2145872 1.9222786\n",
      " 1.7727599 4.7141676 4.6778126]\n"
     ]
    }
   ],
   "source": [
    "##############################################################################\n",
    "# Code for 1.8\n",
    "# \n",
    "##############################################################################\n",
    "# Please code in this cell\n",
    "\n",
    "test_data = np.load('/kaggle/input/phys591000-2022-week11/test_data.npz')[\"test_data\"]\n",
    "\n",
    "\n",
    "for i in range(100):\n",
    "    for j in range(100):\n",
    "        test_data[i][j] = (test_data[i][j]+1)/2    \n",
    "\n",
    "        \n",
    "re_test_data = test_data.reshape(100,100,100)\n",
    "print(f\"The shape of the test_data is {re_test_data.shape}\")\n",
    "\n",
    "# predict \n",
    "prediction = model.predict(re_test_data)\n",
    "# rescale\n",
    "prediction = prediction*5\n",
    "prediction = prediction.reshape(100)\n",
    "\n",
    "print(\"The top 5 prediction is:\")\n",
    "print(prediction[0:10])\n",
    "\n",
    "##############################################################################"
   ]
  },
  {
   "cell_type": "markdown",
   "id": "d85b3c8d",
   "metadata": {
    "papermill": {
     "duration": 0.026649,
     "end_time": "2022-04-27T13:59:24.426641",
     "exception": false,
     "start_time": "2022-04-27T13:59:24.399992",
     "status": "completed"
    },
    "tags": []
   },
   "source": [
    "---"
   ]
  },
  {
   "cell_type": "markdown",
   "id": "42f90a77",
   "metadata": {
    "papermill": {
     "duration": 0.026498,
     "end_time": "2022-04-27T13:59:24.479812",
     "exception": false,
     "start_time": "2022-04-27T13:59:24.453314",
     "status": "completed"
    },
    "tags": []
   },
   "source": [
    "### 1.9 Prepare Submission Format\n",
    "\n",
    "* 1 Please create a **Pandas DataFrame**\n",
    "\n",
    "* 2 Create a column with the name `id` and then fill 0~99 in this column\n",
    "\n",
    "* 3 Create a column with the name `prediction` and then fill your prediction in this column\n",
    "\n",
    "* 4 Save this pandas dataFrame into a csv file with `index=0` and name this file as `your_ID.csv`\n"
   ]
  },
  {
   "cell_type": "code",
   "execution_count": 10,
   "id": "67dafa35",
   "metadata": {
    "execution": {
     "iopub.execute_input": "2022-04-27T13:59:24.541194Z",
     "iopub.status.busy": "2022-04-27T13:59:24.540386Z",
     "iopub.status.idle": "2022-04-27T13:59:24.545651Z",
     "shell.execute_reply": "2022-04-27T13:59:24.546072Z",
     "shell.execute_reply.started": "2022-04-27T06:20:15.309492Z"
    },
    "papermill": {
     "duration": 0.03937,
     "end_time": "2022-04-27T13:59:24.546221",
     "exception": false,
     "start_time": "2022-04-27T13:59:24.506851",
     "status": "completed"
    },
    "tags": []
   },
   "outputs": [],
   "source": [
    "##############################################################################\n",
    "# Code for 1.9\n",
    "# \n",
    "##############################################################################\n",
    "# Please code in this cell\n",
    "\n",
    "d = {'id': list(range(100)),\n",
    "     'prediction': prediction}\n",
    "\n",
    "df = pd.DataFrame(data=d)\n",
    "\n",
    "df.to_csv('110022559_110022513.csv', index=0)  \n",
    "\n",
    "##############################################################################"
   ]
  },
  {
   "cell_type": "markdown",
   "id": "2635a6ef",
   "metadata": {
    "papermill": {
     "duration": 0.026431,
     "end_time": "2022-04-27T13:59:24.600124",
     "exception": false,
     "start_time": "2022-04-27T13:59:24.573693",
     "status": "completed"
    },
    "tags": []
   },
   "source": [
    "---"
   ]
  },
  {
   "cell_type": "markdown",
   "id": "8b74ffcf",
   "metadata": {
    "papermill": {
     "duration": 0.026437,
     "end_time": "2022-04-27T13:59:24.653387",
     "exception": false,
     "start_time": "2022-04-27T13:59:24.626950",
     "status": "completed"
    },
    "tags": []
   },
   "source": [
    "### 1.10 Download File and Submit\n",
    "\n",
    "* 1 Please download your `your_ID.csv`  from `Output`\n",
    "\n",
    "* 2 Submit this file to [Submit Predictions](https://www.kaggle.com/competitions/phys591000-2022-week11/submit)\n",
    "\n",
    "* 3 Please write down your score from leaderboard\n",
    "    * the score is **Mean Square Error**"
   ]
  },
  {
   "cell_type": "code",
   "execution_count": 11,
   "id": "b446d7e6",
   "metadata": {
    "execution": {
     "iopub.execute_input": "2022-04-27T13:59:24.712581Z",
     "iopub.status.busy": "2022-04-27T13:59:24.711866Z",
     "iopub.status.idle": "2022-04-27T13:59:24.714752Z",
     "shell.execute_reply": "2022-04-27T13:59:24.715346Z",
     "shell.execute_reply.started": "2022-04-27T06:28:26.70784Z"
    },
    "papermill": {
     "duration": 0.03551,
     "end_time": "2022-04-27T13:59:24.715524",
     "exception": false,
     "start_time": "2022-04-27T13:59:24.680014",
     "status": "completed"
    },
    "tags": []
   },
   "outputs": [
    {
     "name": "stdout",
     "output_type": "stream",
     "text": [
      "The score of our team is: 0.41\n"
     ]
    }
   ],
   "source": [
    "##############################################################################\n",
    "# Code for 1.10\n",
    "# \n",
    "##############################################################################\n",
    "# Please code in this cell      \n",
    "\n",
    "print(\"The score of our team is: {:.2f}\".format(0.41114))\n",
    "\n",
    "##############################################################################"
   ]
  }
 ],
 "metadata": {
  "kernelspec": {
   "display_name": "Python 3",
   "language": "python",
   "name": "python3"
  },
  "language_info": {
   "codemirror_mode": {
    "name": "ipython",
    "version": 3
   },
   "file_extension": ".py",
   "mimetype": "text/x-python",
   "name": "python",
   "nbconvert_exporter": "python",
   "pygments_lexer": "ipython3",
   "version": "3.7.12"
  },
  "papermill": {
   "default_parameters": {},
   "duration": 798.686786,
   "end_time": "2022-04-27T13:59:28.321106",
   "environment_variables": {},
   "exception": null,
   "input_path": "__notebook__.ipynb",
   "output_path": "__notebook__.ipynb",
   "parameters": {},
   "start_time": "2022-04-27T13:46:09.634320",
   "version": "2.3.3"
  }
 },
 "nbformat": 4,
 "nbformat_minor": 5
}
